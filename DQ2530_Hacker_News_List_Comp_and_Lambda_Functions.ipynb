{
 "cells": [
  {
   "cell_type": "markdown",
   "metadata": {},
   "source": [
    "# Hacker News: Stories, 2014\n",
    "\n",
    "<br></br>\n",
    "<i>Created by the startup incubator Y Combinator in 2007, [Hacker News](https://news.ycombinator.com/) is a social news site where *posts* — user-submitted content — are voted and commented upon, highly similar to Reddit's format. However, unlike Reddit, users can only upvote or downvote once they've accumulated enough karma (user points) to discourage [trolling](https://unlcms.unl.edu/engineering/james-hanson/trolls-and-their-impact-social-media) and affirm intelligent, respectful discourse. Hacker News' top posts can get hundreds of thousands of user engagements since it is fairly popular in technology and startup circles.</i>\n",
    "\n",
    "## Dataset\n",
    "\n",
    "The dataset for this mission is in JavaScript Object Notation (JSON). `hn_2014.json` was downloaded from the Hacker News API, and contains data about stories from Hacker News in 2014. The data contains keys representing the title, URL, points, number of comments, and date, to name a few. \n",
    "\n",
    "To review:\n",
    "\n",
    "| Column              | Definition          |\n",
    "|:--------------------|:--------------------|\n",
    "| author | The username of the person who submitted the story. |\n",
    "| createdAt | The date and time at which the story was created. |\n",
    "| createdAtI | An integer value representing the date and time at which the story was created. |\n",
    "| numComments | The number of comments that were made on the story. |\n",
    "| objectId | The unique identifier from Hacker News for the story. |\n",
    "| points | The number of points the story acquired, calculated as the total number of upvotes minus the total number of downvotes. |\n",
    "| storyText | The text of the story (if the story contains text). |\n",
    "| tags | A list of tags associated with the story. |\n",
    "| title | The title of the story. |\n",
    "| url | The URL that the story links to (if the story links to a URL). |\n",
    "\n",
    "The aim here is to explore tips and syntax shortcuts, including list comprehensions, passing functions as arguments and lambda functions."
   ]
  },
  {
   "cell_type": "code",
   "execution_count": 1,
   "metadata": {},
   "outputs": [],
   "source": [
    "import numpy as np\n",
    "import pandas as pd\n",
    "import json"
   ]
  },
  {
   "cell_type": "code",
   "execution_count": 2,
   "metadata": {
    "scrolled": true
   },
   "outputs": [],
   "source": [
    "# open, load, and create df\n",
    "hn = open('datasets/hn_2014.json')\n",
    "hnjs = json.load(hn)\n",
    "hndf = pd.DataFrame(hnjs)"
   ]
  },
  {
   "cell_type": "code",
   "execution_count": 3,
   "metadata": {},
   "outputs": [
    {
     "data": {
      "text/html": [
       "<div>\n",
       "<style scoped>\n",
       "    .dataframe tbody tr th:only-of-type {\n",
       "        vertical-align: middle;\n",
       "    }\n",
       "\n",
       "    .dataframe tbody tr th {\n",
       "        vertical-align: top;\n",
       "    }\n",
       "\n",
       "    .dataframe thead th {\n",
       "        text-align: right;\n",
       "    }\n",
       "</style>\n",
       "<table border=\"1\" class=\"dataframe\">\n",
       "  <thead>\n",
       "    <tr style=\"text-align: right;\">\n",
       "      <th></th>\n",
       "      <th>0</th>\n",
       "      <th>1</th>\n",
       "      <th>2</th>\n",
       "      <th>3</th>\n",
       "    </tr>\n",
       "  </thead>\n",
       "  <tbody>\n",
       "    <tr>\n",
       "      <td>author</td>\n",
       "      <td>dragongraphics</td>\n",
       "      <td>jcr</td>\n",
       "      <td>callum85</td>\n",
       "      <td>d3v3r0</td>\n",
       "    </tr>\n",
       "    <tr>\n",
       "      <td>numComments</td>\n",
       "      <td>0</td>\n",
       "      <td>0</td>\n",
       "      <td>0</td>\n",
       "      <td>0</td>\n",
       "    </tr>\n",
       "    <tr>\n",
       "      <td>points</td>\n",
       "      <td>2</td>\n",
       "      <td>1</td>\n",
       "      <td>1</td>\n",
       "      <td>1</td>\n",
       "    </tr>\n",
       "    <tr>\n",
       "      <td>url</td>\n",
       "      <td>http://ashleynolan.co.uk/blog/are-we-getting-t...</td>\n",
       "      <td>http://spectrum.ieee.org/automaton/robotics/ho...</td>\n",
       "      <td>http://online.wsj.com/articles/apple-to-buy-be...</td>\n",
       "      <td>http://alexsblog.org/2014/05/29/dont-wait-for-...</td>\n",
       "    </tr>\n",
       "    <tr>\n",
       "      <td>storyText</td>\n",
       "      <td></td>\n",
       "      <td></td>\n",
       "      <td></td>\n",
       "      <td></td>\n",
       "    </tr>\n",
       "    <tr>\n",
       "      <td>createdAt</td>\n",
       "      <td>2014-05-29T08:07:50Z</td>\n",
       "      <td>2014-05-29T08:05:58Z</td>\n",
       "      <td>2014-05-29T08:05:06Z</td>\n",
       "      <td>2014-05-29T08:00:08Z</td>\n",
       "    </tr>\n",
       "    <tr>\n",
       "      <td>tags</td>\n",
       "      <td>[story, author_dragongraphics, story_7815238]</td>\n",
       "      <td>[story, author_jcr, story_7815234]</td>\n",
       "      <td>[story, author_callum85, story_7815230]</td>\n",
       "      <td>[story, author_d3v3r0, story_7815222]</td>\n",
       "    </tr>\n",
       "    <tr>\n",
       "      <td>createdAtI</td>\n",
       "      <td>1401350870</td>\n",
       "      <td>1401350758</td>\n",
       "      <td>1401350706</td>\n",
       "      <td>1401350408</td>\n",
       "    </tr>\n",
       "    <tr>\n",
       "      <td>title</td>\n",
       "      <td>Are we getting too Sassy? Weighing up micro-op...</td>\n",
       "      <td>Telemba Turns Your Old Roomba and Tablet Into ...</td>\n",
       "      <td>Apple Agrees to Buy Beats for $3 Billion</td>\n",
       "      <td>Don’t wait for inspiration</td>\n",
       "    </tr>\n",
       "    <tr>\n",
       "      <td>objectId</td>\n",
       "      <td>7815238</td>\n",
       "      <td>7815234</td>\n",
       "      <td>7815230</td>\n",
       "      <td>7815222</td>\n",
       "    </tr>\n",
       "  </tbody>\n",
       "</table>\n",
       "</div>"
      ],
      "text/plain": [
       "                                                             0  \\\n",
       "author                                          dragongraphics   \n",
       "numComments                                                  0   \n",
       "points                                                       2   \n",
       "url          http://ashleynolan.co.uk/blog/are-we-getting-t...   \n",
       "storyText                                                        \n",
       "createdAt                                 2014-05-29T08:07:50Z   \n",
       "tags             [story, author_dragongraphics, story_7815238]   \n",
       "createdAtI                                          1401350870   \n",
       "title        Are we getting too Sassy? Weighing up micro-op...   \n",
       "objectId                                               7815238   \n",
       "\n",
       "                                                             1  \\\n",
       "author                                                     jcr   \n",
       "numComments                                                  0   \n",
       "points                                                       1   \n",
       "url          http://spectrum.ieee.org/automaton/robotics/ho...   \n",
       "storyText                                                        \n",
       "createdAt                                 2014-05-29T08:05:58Z   \n",
       "tags                        [story, author_jcr, story_7815234]   \n",
       "createdAtI                                          1401350758   \n",
       "title        Telemba Turns Your Old Roomba and Tablet Into ...   \n",
       "objectId                                               7815234   \n",
       "\n",
       "                                                             2  \\\n",
       "author                                                callum85   \n",
       "numComments                                                  0   \n",
       "points                                                       1   \n",
       "url          http://online.wsj.com/articles/apple-to-buy-be...   \n",
       "storyText                                                        \n",
       "createdAt                                 2014-05-29T08:05:06Z   \n",
       "tags                   [story, author_callum85, story_7815230]   \n",
       "createdAtI                                          1401350706   \n",
       "title                 Apple Agrees to Buy Beats for $3 Billion   \n",
       "objectId                                               7815230   \n",
       "\n",
       "                                                             3  \n",
       "author                                                  d3v3r0  \n",
       "numComments                                                  0  \n",
       "points                                                       1  \n",
       "url          http://alexsblog.org/2014/05/29/dont-wait-for-...  \n",
       "storyText                                                       \n",
       "createdAt                                 2014-05-29T08:00:08Z  \n",
       "tags                     [story, author_d3v3r0, story_7815222]  \n",
       "createdAtI                                          1401350408  \n",
       "title                               Don’t wait for inspiration  \n",
       "objectId                                               7815222  "
      ]
     },
     "execution_count": 3,
     "metadata": {},
     "output_type": "execute_result"
    }
   ],
   "source": [
    "hndf.head(4).T"
   ]
  },
  {
   "cell_type": "markdown",
   "metadata": {},
   "source": [
    "## List Comprehensions\n",
    "\n",
    "A list comprehension provides a concise syntax for creating a new list out of an existing one, using a single line of code. Below are some examples."
   ]
  },
  {
   "cell_type": "code",
   "execution_count": 4,
   "metadata": {},
   "outputs": [
    {
     "data": {
      "text/html": [
       "<div>\n",
       "<style scoped>\n",
       "    .dataframe tbody tr th:only-of-type {\n",
       "        vertical-align: middle;\n",
       "    }\n",
       "\n",
       "    .dataframe tbody tr th {\n",
       "        vertical-align: top;\n",
       "    }\n",
       "\n",
       "    .dataframe thead th {\n",
       "        text-align: right;\n",
       "    }\n",
       "</style>\n",
       "<table border=\"1\" class=\"dataframe\">\n",
       "  <thead>\n",
       "    <tr style=\"text-align: right;\">\n",
       "      <th></th>\n",
       "      <th>col_1</th>\n",
       "      <th>col_2</th>\n",
       "      <th>col_3</th>\n",
       "      <th>col_4</th>\n",
       "    </tr>\n",
       "  </thead>\n",
       "  <tbody>\n",
       "    <tr>\n",
       "      <td>0</td>\n",
       "      <td>0.0</td>\n",
       "      <td>0.0</td>\n",
       "      <td>0.0</td>\n",
       "      <td>0.0</td>\n",
       "    </tr>\n",
       "    <tr>\n",
       "      <td>1</td>\n",
       "      <td>0.0</td>\n",
       "      <td>0.0</td>\n",
       "      <td>0.0</td>\n",
       "      <td>0.0</td>\n",
       "    </tr>\n",
       "    <tr>\n",
       "      <td>2</td>\n",
       "      <td>0.0</td>\n",
       "      <td>0.0</td>\n",
       "      <td>0.0</td>\n",
       "      <td>0.0</td>\n",
       "    </tr>\n",
       "    <tr>\n",
       "      <td>3</td>\n",
       "      <td>0.0</td>\n",
       "      <td>0.0</td>\n",
       "      <td>0.0</td>\n",
       "      <td>0.0</td>\n",
       "    </tr>\n",
       "  </tbody>\n",
       "</table>\n",
       "</div>"
      ],
      "text/plain": [
       "   col_1  col_2  col_3  col_4\n",
       "0    0.0    0.0    0.0    0.0\n",
       "1    0.0    0.0    0.0    0.0\n",
       "2    0.0    0.0    0.0    0.0\n",
       "3    0.0    0.0    0.0    0.0"
      ]
     },
     "execution_count": 4,
     "metadata": {},
     "output_type": "execute_result"
    }
   ],
   "source": [
    "cols = [\"col_{}\".format(i) for i in range(1,5)]\n",
    "data = np.zeros((4,4))\n",
    "\n",
    "df = pd.DataFrame(data, columns=cols)\n",
    "df"
   ]
  },
  {
   "cell_type": "code",
   "execution_count": 5,
   "metadata": {},
   "outputs": [
    {
     "data": {
      "text/html": [
       "<div>\n",
       "<style scoped>\n",
       "    .dataframe tbody tr th:only-of-type {\n",
       "        vertical-align: middle;\n",
       "    }\n",
       "\n",
       "    .dataframe tbody tr th {\n",
       "        vertical-align: top;\n",
       "    }\n",
       "\n",
       "    .dataframe thead th {\n",
       "        text-align: right;\n",
       "    }\n",
       "</style>\n",
       "<table border=\"1\" class=\"dataframe\">\n",
       "  <thead>\n",
       "    <tr style=\"text-align: right;\">\n",
       "      <th></th>\n",
       "      <th>11</th>\n",
       "      <th>14</th>\n",
       "      <th>19</th>\n",
       "    </tr>\n",
       "  </thead>\n",
       "  <tbody>\n",
       "    <tr>\n",
       "      <td>author</td>\n",
       "      <td>outrightfree</td>\n",
       "      <td>kamaal</td>\n",
       "      <td>mr_tyzic</td>\n",
       "    </tr>\n",
       "    <tr>\n",
       "      <td>numComments</td>\n",
       "      <td>1</td>\n",
       "      <td>2</td>\n",
       "      <td>27</td>\n",
       "    </tr>\n",
       "    <tr>\n",
       "      <td>points</td>\n",
       "      <td>1</td>\n",
       "      <td>2</td>\n",
       "      <td>161</td>\n",
       "    </tr>\n",
       "    <tr>\n",
       "      <td>url</td>\n",
       "      <td>http://techcrunch.com/gallery/five-super-succe...</td>\n",
       "      <td>https://www.kickstarter.com/projects/227461008...</td>\n",
       "      <td>http://projects.aljazeera.com/2014/portrait-of...</td>\n",
       "    </tr>\n",
       "    <tr>\n",
       "      <td>storyText</td>\n",
       "      <td></td>\n",
       "      <td></td>\n",
       "      <td></td>\n",
       "    </tr>\n",
       "    <tr>\n",
       "      <td>createdAt</td>\n",
       "      <td>2014-05-29T06:18:51Z</td>\n",
       "      <td>2014-05-29T05:05:22Z</td>\n",
       "      <td>2014-05-29T03:51:01Z</td>\n",
       "    </tr>\n",
       "    <tr>\n",
       "      <td>tags</td>\n",
       "      <td>[story, author_outrightfree, story_7815001]</td>\n",
       "      <td>[story, author_kamaal, story_7814838]</td>\n",
       "      <td>[story, author_mr_tyzic, story_7814608]</td>\n",
       "    </tr>\n",
       "    <tr>\n",
       "      <td>createdAtI</td>\n",
       "      <td>1401344331</td>\n",
       "      <td>1401339922</td>\n",
       "      <td>1401335461</td>\n",
       "    </tr>\n",
       "    <tr>\n",
       "      <td>title</td>\n",
       "      <td>Five Super Successful Tech Pivots</td>\n",
       "      <td>Gi Bike: The light, full-size, electric, foldi...</td>\n",
       "      <td>For Hire: Dedicated Young Man With Down Syndrome</td>\n",
       "    </tr>\n",
       "    <tr>\n",
       "      <td>objectId</td>\n",
       "      <td>7815001</td>\n",
       "      <td>7814838</td>\n",
       "      <td>7814608</td>\n",
       "    </tr>\n",
       "    <tr>\n",
       "      <td>hasComments</td>\n",
       "      <td>True</td>\n",
       "      <td>True</td>\n",
       "      <td>True</td>\n",
       "    </tr>\n",
       "  </tbody>\n",
       "</table>\n",
       "</div>"
      ],
      "text/plain": [
       "                                                            11  \\\n",
       "author                                            outrightfree   \n",
       "numComments                                                  1   \n",
       "points                                                       1   \n",
       "url          http://techcrunch.com/gallery/five-super-succe...   \n",
       "storyText                                                        \n",
       "createdAt                                 2014-05-29T06:18:51Z   \n",
       "tags               [story, author_outrightfree, story_7815001]   \n",
       "createdAtI                                          1401344331   \n",
       "title                        Five Super Successful Tech Pivots   \n",
       "objectId                                               7815001   \n",
       "hasComments                                               True   \n",
       "\n",
       "                                                            14  \\\n",
       "author                                                  kamaal   \n",
       "numComments                                                  2   \n",
       "points                                                       2   \n",
       "url          https://www.kickstarter.com/projects/227461008...   \n",
       "storyText                                                        \n",
       "createdAt                                 2014-05-29T05:05:22Z   \n",
       "tags                     [story, author_kamaal, story_7814838]   \n",
       "createdAtI                                          1401339922   \n",
       "title        Gi Bike: The light, full-size, electric, foldi...   \n",
       "objectId                                               7814838   \n",
       "hasComments                                               True   \n",
       "\n",
       "                                                            19  \n",
       "author                                                mr_tyzic  \n",
       "numComments                                                 27  \n",
       "points                                                     161  \n",
       "url          http://projects.aljazeera.com/2014/portrait-of...  \n",
       "storyText                                                       \n",
       "createdAt                                 2014-05-29T03:51:01Z  \n",
       "tags                   [story, author_mr_tyzic, story_7814608]  \n",
       "createdAtI                                          1401335461  \n",
       "title         For Hire: Dedicated Young Man With Down Syndrome  \n",
       "objectId                                               7814608  \n",
       "hasComments                                               True  "
      ]
     },
     "execution_count": 5,
     "metadata": {},
     "output_type": "execute_result"
    }
   ],
   "source": [
    "# generate a new column using list comprehension\n",
    "hndf['hasComments'] = [x > 0 for x in hndf['numComments']]\n",
    "hndf[hndf['hasComments']].head(3).T"
   ]
  },
  {
   "cell_type": "code",
   "execution_count": 6,
   "metadata": {},
   "outputs": [
    {
     "data": {
      "text/plain": [
       "['http://ashleynolan.co.uk/blog/are-we-getting-too-sassy',\n",
       " 'http://spectrum.ieee.org/automaton/robotics/home-robots/telemba-telepresence-robot',\n",
       " 'http://online.wsj.com/articles/apple-to-buy-beats-1401308971',\n",
       " 'http://alexsblog.org/2014/05/29/dont-wait-for-inspiration/',\n",
       " 'http://techcrunch.com/2014/05/28/hackerone-get-9m-in-series-a-funding-to-build-bug-tracking-bounty-programs/']"
      ]
     },
     "execution_count": 6,
     "metadata": {},
     "output_type": "execute_result"
    }
   ],
   "source": [
    "# create a list of urls\n",
    "urls = [hndf['url'][i] for i in range(len(hndf))]\n",
    "urls[:5]"
   ]
  },
  {
   "cell_type": "code",
   "execution_count": 7,
   "metadata": {
    "scrolled": true
   },
   "outputs": [
    {
     "data": {
      "text/plain": [
       "3401"
      ]
     },
     "execution_count": 7,
     "metadata": {},
     "output_type": "execute_result"
    }
   ],
   "source": [
    "# use an if clause as filter\n",
    "thousand_points = [hndf['numComments'][i] for i in range(len(hndf)) if hndf['points'][i] > 1000]\n",
    "\n",
    "# total count of comments\n",
    "sum(thousand_points)"
   ]
  },
  {
   "cell_type": "markdown",
   "metadata": {},
   "source": [
    "## Passing Functions as Arguments\n",
    "\n",
    "Parentheses allows functions to be executed. If the parentheses are omitted, functions retain their defined logic but are not executed. In those cases, functions operate like variables and can be passed as arguments. The example below illustrates this."
   ]
  },
  {
   "cell_type": "code",
   "execution_count": 8,
   "metadata": {},
   "outputs": [
    {
     "data": {
      "text/plain": [
       "'This is a function'"
      ]
     },
     "execution_count": 8,
     "metadata": {},
     "output_type": "execute_result"
    }
   ],
   "source": [
    "def a_function():\n",
    "    return \"This is a function\"\n",
    "\n",
    "a_function()"
   ]
  },
  {
   "cell_type": "code",
   "execution_count": 9,
   "metadata": {},
   "outputs": [
    {
     "name": "stdout",
     "output_type": "stream",
     "text": [
      "<class 'function'>\n"
     ]
    }
   ],
   "source": [
    "t = type(a_function)\n",
    "print(t)"
   ]
  },
  {
   "cell_type": "code",
   "execution_count": 10,
   "metadata": {},
   "outputs": [
    {
     "name": "stdout",
     "output_type": "stream",
     "text": [
      "My youngest sister is Sabine at 36 years old.\n"
     ]
    }
   ],
   "source": [
    "sisters = [\n",
    "    {\"age\": 36, \"name\": \"Sabine\"},\n",
    "    {\"age\": 40, \"name\": \"Zoe\"},\n",
    "    {\"age\": 41, \"name\": \"Heidi\"}\n",
    "]\n",
    "\n",
    "def get_age(json_dict):\n",
    "    return json_dict['age']\n",
    "\n",
    "# get the details of the youngest\n",
    "youngest = min(sisters, key=get_age)\n",
    "print('My youngest sister is {} at {} years old.'.format(youngest['name'], youngest['age']))"
   ]
  },
  {
   "cell_type": "code",
   "execution_count": 11,
   "metadata": {},
   "outputs": [
    {
     "data": {
      "text/plain": [
       "{'author': 'platz',\n",
       " 'numComments': 1208,\n",
       " 'points': 889,\n",
       " 'url': 'https://blog.mozilla.org/blog/2014/04/03/brendan-eich-steps-down-as-mozilla-ceo/',\n",
       " 'storyText': None,\n",
       " 'createdAt': '2014-04-03T19:02:53Z',\n",
       " 'tags': ['story', 'author_platz', 'story_7525198'],\n",
       " 'createdAtI': 1396551773,\n",
       " 'title': 'Brendan Eich Steps Down as Mozilla CEO',\n",
       " 'objectId': '7525198'}"
      ]
     },
     "execution_count": 11,
     "metadata": {},
     "output_type": "execute_result"
    }
   ],
   "source": [
    "def get_num_comments(json_dict):\n",
    "    return json_dict['numComments']\n",
    "\n",
    "# get the post with the most comments\n",
    "max(hnjs, key=get_num_comments)"
   ]
  },
  {
   "cell_type": "markdown",
   "metadata": {},
   "source": [
    "## Lambda Functions\n",
    "\n",
    "Often, functions are created to reuse logic for repetitive tasks. However, there is a special syntax for temporary or one-off functions, called lambda functions. Lambda functions can be defined in a single line, which allows for defining a function to be passed as an argument when it is needed."
   ]
  },
  {
   "cell_type": "code",
   "execution_count": 12,
   "metadata": {},
   "outputs": [
    {
     "data": {
      "text/plain": [
       "[{'author': 'frederfred',\n",
       "  'numComments': 398,\n",
       "  'points': 2732,\n",
       "  'url': 'http://gabrielecirulli.github.io/2048/',\n",
       "  'storyText': '',\n",
       "  'createdAt': '2014-03-10T15:44:42Z',\n",
       "  'tags': ['story', 'author_frederfred', 'story_7373566'],\n",
       "  'createdAtI': 1394466282,\n",
       "  'title': '2048',\n",
       "  'objectId': '7373566'},\n",
       " {'author': 'brokenparser',\n",
       "  'numComments': 260,\n",
       "  'points': 1958,\n",
       "  'url': 'https://thedaywefightback.org/',\n",
       "  'storyText': '',\n",
       "  'createdAt': '2014-02-11T08:12:28Z',\n",
       "  'tags': ['story', 'author_brokenparser', 'story_7216471'],\n",
       "  'createdAtI': 1392106348,\n",
       "  'title': 'Today is The Day We Fight Back',\n",
       "  'objectId': '7216471'}]"
      ]
     },
     "execution_count": 12,
     "metadata": {},
     "output_type": "execute_result"
    }
   ],
   "source": [
    "# use a lambda function to generate a key out of a story's points\n",
    "hn_sorted_points = sorted(hnjs, key=lambda d: d['points'], reverse=True)\n",
    "hn_sorted_points[0:2]"
   ]
  },
  {
   "cell_type": "code",
   "execution_count": 13,
   "metadata": {},
   "outputs": [
    {
     "data": {
      "text/plain": [
       "['2048',\n",
       " 'Today is The Day We Fight Back',\n",
       " 'Wozniak: “Actually, the movie was largely a lie about me”',\n",
       " 'Microsoft Open Sources C# Compiler',\n",
       " 'Elon Musk: To the People of New Jersey']"
      ]
     },
     "execution_count": 13,
     "metadata": {},
     "output_type": "execute_result"
    }
   ],
   "source": [
    "top_hn_stories = [d['title'] for d in hn_sorted_points[:5]]\n",
    "top_hn_stories"
   ]
  },
  {
   "cell_type": "markdown",
   "metadata": {},
   "source": [
    "### Ternary Operator\n",
    "\n",
    "A ternary operator is used whenever there is a need to return one of two values depending on a boolean expression. The syntax is as follows: \n",
    "\n",
    "`[on_true] if [expression] else [on_false]`"
   ]
  },
  {
   "cell_type": "code",
   "execution_count": 14,
   "metadata": {},
   "outputs": [
    {
     "data": {
      "text/plain": [
       "<class 'list'>    35806\n",
       "Name: tags, dtype: int64"
      ]
     },
     "execution_count": 14,
     "metadata": {},
     "output_type": "execute_result"
    }
   ],
   "source": [
    "tags = hndf['tags']\n",
    "\n",
    "# identify type of tags\n",
    "tag_types = tags.apply(type)\n",
    "tag_types.value_counts(dropna=False)"
   ]
  },
  {
   "cell_type": "code",
   "execution_count": 15,
   "metadata": {},
   "outputs": [
    {
     "data": {
      "text/plain": [
       "3    33459\n",
       "4     2347\n",
       "Name: tags, dtype: int64"
      ]
     },
     "execution_count": 15,
     "metadata": {},
     "output_type": "execute_result"
    }
   ],
   "source": [
    "# count of tags per story\n",
    "tag_types = tags.apply(len)\n",
    "tag_types.value_counts(dropna=False)"
   ]
  },
  {
   "cell_type": "code",
   "execution_count": 16,
   "metadata": {
    "scrolled": false
   },
   "outputs": [
    {
     "data": {
      "text/plain": [
       "NaN        33459\n",
       "ask_hn      1348\n",
       "show_hn      999\n",
       "Name: tags, dtype: int64"
      ]
     },
     "execution_count": 16,
     "metadata": {},
     "output_type": "execute_result"
    }
   ],
   "source": [
    "# get stories with four tags\n",
    "four_tags = tags[tags.apply(len) == 4]\n",
    "\n",
    "# grab the fourth tag if there is one\n",
    "cleaned_tags = tags.apply(lambda l: l[-1] if len(l) == 4 else None)\n",
    "\n",
    "# assign results back to the main dataframe\n",
    "hndf['tags'] = cleaned_tags\n",
    "hndf['tags'].value_counts(dropna=False)"
   ]
  },
  {
   "cell_type": "code",
   "execution_count": 17,
   "metadata": {},
   "outputs": [
    {
     "data": {
      "text/html": [
       "<div>\n",
       "<style scoped>\n",
       "    .dataframe tbody tr th:only-of-type {\n",
       "        vertical-align: middle;\n",
       "    }\n",
       "\n",
       "    .dataframe tbody tr th {\n",
       "        vertical-align: top;\n",
       "    }\n",
       "\n",
       "    .dataframe thead th {\n",
       "        text-align: right;\n",
       "    }\n",
       "</style>\n",
       "<table border=\"1\" class=\"dataframe\">\n",
       "  <thead>\n",
       "    <tr style=\"text-align: right;\">\n",
       "      <th></th>\n",
       "      <th>86</th>\n",
       "      <th>104</th>\n",
       "      <th>107</th>\n",
       "      <th>165</th>\n",
       "      <th>281</th>\n",
       "    </tr>\n",
       "  </thead>\n",
       "  <tbody>\n",
       "    <tr>\n",
       "      <td>author</td>\n",
       "      <td>cweagans</td>\n",
       "      <td>nightstrike789</td>\n",
       "      <td>ISeemToBeAVerb</td>\n",
       "      <td>greekspain</td>\n",
       "      <td>hoodoof</td>\n",
       "    </tr>\n",
       "    <tr>\n",
       "      <td>numComments</td>\n",
       "      <td>4</td>\n",
       "      <td>0</td>\n",
       "      <td>0</td>\n",
       "      <td>0</td>\n",
       "      <td>1</td>\n",
       "    </tr>\n",
       "    <tr>\n",
       "      <td>points</td>\n",
       "      <td>1</td>\n",
       "      <td>1</td>\n",
       "      <td>1</td>\n",
       "      <td>1</td>\n",
       "      <td>1</td>\n",
       "    </tr>\n",
       "    <tr>\n",
       "      <td>url</td>\n",
       "      <td></td>\n",
       "      <td></td>\n",
       "      <td></td>\n",
       "      <td></td>\n",
       "      <td>http://www.wikihow.com/Capitalise-Correctly</td>\n",
       "    </tr>\n",
       "    <tr>\n",
       "      <td>storyText</td>\n",
       "      <td>As a followup to my question from a few days a...</td>\n",
       "      <td>I am working on a personal project to help peo...</td>\n",
       "      <td>Howdy folks. I&amp;#x27;m a designer&amp;#x2F;develope...</td>\n",
       "      <td>Hi, just wondering - I am playing for a univer...</td>\n",
       "      <td></td>\n",
       "    </tr>\n",
       "    <tr>\n",
       "      <td>createdAt</td>\n",
       "      <td>2014-05-28T19:51:02Z</td>\n",
       "      <td>2014-05-28T18:57:32Z</td>\n",
       "      <td>2014-05-28T18:47:05Z</td>\n",
       "      <td>2014-05-28T15:57:05Z</td>\n",
       "      <td>2014-05-28T05:38:21Z</td>\n",
       "    </tr>\n",
       "    <tr>\n",
       "      <td>tags</td>\n",
       "      <td>ask_hn</td>\n",
       "      <td>ask_hn</td>\n",
       "      <td>ask_hn</td>\n",
       "      <td>ask_hn</td>\n",
       "      <td>ask_hn</td>\n",
       "    </tr>\n",
       "    <tr>\n",
       "      <td>createdAtI</td>\n",
       "      <td>1401306662</td>\n",
       "      <td>1401303452</td>\n",
       "      <td>1401302825</td>\n",
       "      <td>1401292625</td>\n",
       "      <td>1401255501</td>\n",
       "    </tr>\n",
       "    <tr>\n",
       "      <td>title</td>\n",
       "      <td>Ask HN: New technical cofounder. How should ow...</td>\n",
       "      <td>Ask HN: Categorizing company cultures</td>\n",
       "      <td>Ask HN: Content Design Service?</td>\n",
       "      <td>Ask HN: Does anyone have a uber / taxi clone a...</td>\n",
       "      <td>Ask HN editors: why are HN headlines so badly ...</td>\n",
       "    </tr>\n",
       "    <tr>\n",
       "      <td>objectId</td>\n",
       "      <td>7812404</td>\n",
       "      <td>7812099</td>\n",
       "      <td>7812048</td>\n",
       "      <td>7810927</td>\n",
       "      <td>7808556</td>\n",
       "    </tr>\n",
       "    <tr>\n",
       "      <td>hasComments</td>\n",
       "      <td>True</td>\n",
       "      <td>False</td>\n",
       "      <td>False</td>\n",
       "      <td>False</td>\n",
       "      <td>True</td>\n",
       "    </tr>\n",
       "  </tbody>\n",
       "</table>\n",
       "</div>"
      ],
      "text/plain": [
       "                                                           86   \\\n",
       "author                                                cweagans   \n",
       "numComments                                                  4   \n",
       "points                                                       1   \n",
       "url                                                              \n",
       "storyText    As a followup to my question from a few days a...   \n",
       "createdAt                                 2014-05-28T19:51:02Z   \n",
       "tags                                                    ask_hn   \n",
       "createdAtI                                          1401306662   \n",
       "title        Ask HN: New technical cofounder. How should ow...   \n",
       "objectId                                               7812404   \n",
       "hasComments                                               True   \n",
       "\n",
       "                                                           104  \\\n",
       "author                                          nightstrike789   \n",
       "numComments                                                  0   \n",
       "points                                                       1   \n",
       "url                                                              \n",
       "storyText    I am working on a personal project to help peo...   \n",
       "createdAt                                 2014-05-28T18:57:32Z   \n",
       "tags                                                    ask_hn   \n",
       "createdAtI                                          1401303452   \n",
       "title                    Ask HN: Categorizing company cultures   \n",
       "objectId                                               7812099   \n",
       "hasComments                                              False   \n",
       "\n",
       "                                                           107  \\\n",
       "author                                          ISeemToBeAVerb   \n",
       "numComments                                                  0   \n",
       "points                                                       1   \n",
       "url                                                              \n",
       "storyText    Howdy folks. I&#x27;m a designer&#x2F;develope...   \n",
       "createdAt                                 2014-05-28T18:47:05Z   \n",
       "tags                                                    ask_hn   \n",
       "createdAtI                                          1401302825   \n",
       "title                          Ask HN: Content Design Service?   \n",
       "objectId                                               7812048   \n",
       "hasComments                                              False   \n",
       "\n",
       "                                                           165  \\\n",
       "author                                              greekspain   \n",
       "numComments                                                  0   \n",
       "points                                                       1   \n",
       "url                                                              \n",
       "storyText    Hi, just wondering - I am playing for a univer...   \n",
       "createdAt                                 2014-05-28T15:57:05Z   \n",
       "tags                                                    ask_hn   \n",
       "createdAtI                                          1401292625   \n",
       "title        Ask HN: Does anyone have a uber / taxi clone a...   \n",
       "objectId                                               7810927   \n",
       "hasComments                                              False   \n",
       "\n",
       "                                                           281  \n",
       "author                                                 hoodoof  \n",
       "numComments                                                  1  \n",
       "points                                                       1  \n",
       "url                http://www.wikihow.com/Capitalise-Correctly  \n",
       "storyText                                                       \n",
       "createdAt                                 2014-05-28T05:38:21Z  \n",
       "tags                                                    ask_hn  \n",
       "createdAtI                                          1401255501  \n",
       "title        Ask HN editors: why are HN headlines so badly ...  \n",
       "objectId                                               7808556  \n",
       "hasComments                                               True  "
      ]
     },
     "execution_count": 17,
     "metadata": {},
     "output_type": "execute_result"
    }
   ],
   "source": [
    "hndf[hndf['tags'] == 'ask_hn'].head().T"
   ]
  }
 ],
 "metadata": {
  "kernelspec": {
   "display_name": "Python 3",
   "language": "python",
   "name": "python3"
  },
  "language_info": {
   "codemirror_mode": {
    "name": "ipython",
    "version": 3
   },
   "file_extension": ".py",
   "mimetype": "text/x-python",
   "name": "python",
   "nbconvert_exporter": "python",
   "pygments_lexer": "ipython3",
   "version": "3.7.4"
  }
 },
 "nbformat": 4,
 "nbformat_minor": 2
}
