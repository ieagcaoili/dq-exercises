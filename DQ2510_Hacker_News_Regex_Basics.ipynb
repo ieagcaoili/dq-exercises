{
 "cells": [
  {
   "cell_type": "markdown",
   "metadata": {},
   "source": [
    "# Hacker News: September 2015 - September 2016\n",
    "\n",
    "<br></br>\n",
    "<i>Created by the startup incubator Y Combinator in 2007, [Hacker News](https://news.ycombinator.com/) is a social news site where *posts* — user-submitted content — are voted and commented upon, highly similar to Reddit's format. However, unlike Reddit, users can only upvote or downvote once they've accumulated enough karma (user points) to discourage [trolling](https://unlcms.unl.edu/engineering/james-hanson/trolls-and-their-impact-social-media) and affirm intelligent, respectful discourse. Hacker News' top posts can get hundreds of thousands of user engagements since it is fairly popular in technology and startup circles.</i>\n",
    "\n",
    "## Dataset\n",
    "\n",
    "The dataset is a subset of a .csv file containing Hacker News stories from September 2015 to September 2016. The dataset has been reduced from about 300,000 rows to about 20,000 rows. Submissions without any comments have been removed, and the remaining posts have been randomly sampled. The columns are as follows:\n",
    "\n",
    "| COLUMN NAME    | DESCRIPTION  |\n",
    "|:---------------|:-------------|\n",
    "| id | Unique identifier from Hacker News for the story |\n",
    "| title | Title of the story |\n",
    "| url | URL that the stories links to, if the story has a URL |\n",
    "| num_points | Number of points the story acquired, calculated as the total number of upvotes minus the total number of downvotes |\n",
    "| num_comments | Number of comments that were made on the story |\n",
    "| author | Username of the person who submitted the story |\n",
    "| created_at | Date and time at which the story was submitted |\n",
    "\n",
    "With this dataset, the goal is to explore ways of using regular expressions to allow for more refined pattern matching and searches. \n",
    "\n",
    "Below is a high level overview of and sample rows from the dataset."
   ]
  },
  {
   "cell_type": "code",
   "execution_count": 1,
   "metadata": {},
   "outputs": [
    {
     "name": "stdout",
     "output_type": "stream",
     "text": [
      "<class 'pandas.core.frame.DataFrame'>\n",
      "RangeIndex: 20100 entries, 0 to 20099\n",
      "Data columns (total 7 columns):\n",
      "id              20100 non-null int64\n",
      "title           20100 non-null object\n",
      "url             17660 non-null object\n",
      "num_points      20100 non-null int64\n",
      "num_comments    20100 non-null int64\n",
      "author          20100 non-null object\n",
      "created_at      20100 non-null object\n",
      "dtypes: int64(3), object(4)\n",
      "memory usage: 1.1+ MB\n"
     ]
    }
   ],
   "source": [
    "import pandas as pd\n",
    "\n",
    "hn = pd.read_csv('datasets/hacker_news.csv')\n",
    "hn.info()"
   ]
  },
  {
   "cell_type": "code",
   "execution_count": 2,
   "metadata": {
    "scrolled": true
   },
   "outputs": [
    {
     "data": {
      "text/html": [
       "<div>\n",
       "<style scoped>\n",
       "    .dataframe tbody tr th:only-of-type {\n",
       "        vertical-align: middle;\n",
       "    }\n",
       "\n",
       "    .dataframe tbody tr th {\n",
       "        vertical-align: top;\n",
       "    }\n",
       "\n",
       "    .dataframe thead th {\n",
       "        text-align: right;\n",
       "    }\n",
       "</style>\n",
       "<table border=\"1\" class=\"dataframe\">\n",
       "  <thead>\n",
       "    <tr style=\"text-align: right;\">\n",
       "      <th></th>\n",
       "      <th>count</th>\n",
       "      <th>mean</th>\n",
       "      <th>std</th>\n",
       "      <th>min</th>\n",
       "      <th>25%</th>\n",
       "      <th>50%</th>\n",
       "      <th>75%</th>\n",
       "      <th>max</th>\n",
       "    </tr>\n",
       "  </thead>\n",
       "  <tbody>\n",
       "    <tr>\n",
       "      <td>id</td>\n",
       "      <td>20100.0</td>\n",
       "      <td>1.131753e+07</td>\n",
       "      <td>696439.944151</td>\n",
       "      <td>10176908.0</td>\n",
       "      <td>10701763.5</td>\n",
       "      <td>11284446.5</td>\n",
       "      <td>11926073.0</td>\n",
       "      <td>12578975.0</td>\n",
       "    </tr>\n",
       "    <tr>\n",
       "      <td>num_points</td>\n",
       "      <td>20100.0</td>\n",
       "      <td>5.029607e+01</td>\n",
       "      <td>107.107687</td>\n",
       "      <td>1.0</td>\n",
       "      <td>3.0</td>\n",
       "      <td>9.0</td>\n",
       "      <td>54.0</td>\n",
       "      <td>2553.0</td>\n",
       "    </tr>\n",
       "    <tr>\n",
       "      <td>num_comments</td>\n",
       "      <td>20100.0</td>\n",
       "      <td>2.480229e+01</td>\n",
       "      <td>56.107340</td>\n",
       "      <td>1.0</td>\n",
       "      <td>1.0</td>\n",
       "      <td>3.0</td>\n",
       "      <td>21.0</td>\n",
       "      <td>1733.0</td>\n",
       "    </tr>\n",
       "  </tbody>\n",
       "</table>\n",
       "</div>"
      ],
      "text/plain": [
       "                count          mean            std         min         25%  \\\n",
       "id            20100.0  1.131753e+07  696439.944151  10176908.0  10701763.5   \n",
       "num_points    20100.0  5.029607e+01     107.107687         1.0         3.0   \n",
       "num_comments  20100.0  2.480229e+01      56.107340         1.0         1.0   \n",
       "\n",
       "                     50%         75%         max  \n",
       "id            11284446.5  11926073.0  12578975.0  \n",
       "num_points           9.0        54.0      2553.0  \n",
       "num_comments         3.0        21.0      1733.0  "
      ]
     },
     "execution_count": 2,
     "metadata": {},
     "output_type": "execute_result"
    }
   ],
   "source": [
    "hn.describe().T"
   ]
  },
  {
   "cell_type": "code",
   "execution_count": 3,
   "metadata": {},
   "outputs": [
    {
     "data": {
      "text/html": [
       "<div>\n",
       "<style scoped>\n",
       "    .dataframe tbody tr th:only-of-type {\n",
       "        vertical-align: middle;\n",
       "    }\n",
       "\n",
       "    .dataframe tbody tr th {\n",
       "        vertical-align: top;\n",
       "    }\n",
       "\n",
       "    .dataframe thead th {\n",
       "        text-align: right;\n",
       "    }\n",
       "</style>\n",
       "<table border=\"1\" class=\"dataframe\">\n",
       "  <thead>\n",
       "    <tr style=\"text-align: right;\">\n",
       "      <th></th>\n",
       "      <th>id</th>\n",
       "      <th>title</th>\n",
       "      <th>url</th>\n",
       "      <th>num_points</th>\n",
       "      <th>num_comments</th>\n",
       "      <th>author</th>\n",
       "      <th>created_at</th>\n",
       "    </tr>\n",
       "  </thead>\n",
       "  <tbody>\n",
       "    <tr>\n",
       "      <td>0</td>\n",
       "      <td>12224879</td>\n",
       "      <td>Interactive Dynamic Video</td>\n",
       "      <td>http://www.interactivedynamicvideo.com/</td>\n",
       "      <td>386</td>\n",
       "      <td>52</td>\n",
       "      <td>ne0phyte</td>\n",
       "      <td>8/4/2016 11:52</td>\n",
       "    </tr>\n",
       "    <tr>\n",
       "      <td>1</td>\n",
       "      <td>10975351</td>\n",
       "      <td>How to Use Open Source and Shut the Fuck Up at...</td>\n",
       "      <td>http://hueniverse.com/2016/01/26/how-to-use-op...</td>\n",
       "      <td>39</td>\n",
       "      <td>10</td>\n",
       "      <td>josep2</td>\n",
       "      <td>1/26/2016 19:30</td>\n",
       "    </tr>\n",
       "    <tr>\n",
       "      <td>2</td>\n",
       "      <td>11964716</td>\n",
       "      <td>Florida DJs May Face Felony for April Fools' W...</td>\n",
       "      <td>http://www.thewire.com/entertainment/2013/04/f...</td>\n",
       "      <td>2</td>\n",
       "      <td>1</td>\n",
       "      <td>vezycash</td>\n",
       "      <td>6/23/2016 22:20</td>\n",
       "    </tr>\n",
       "    <tr>\n",
       "      <td>3</td>\n",
       "      <td>11919867</td>\n",
       "      <td>Technology ventures: From Idea to Enterprise</td>\n",
       "      <td>https://www.amazon.com/Technology-Ventures-Ent...</td>\n",
       "      <td>3</td>\n",
       "      <td>1</td>\n",
       "      <td>hswarna</td>\n",
       "      <td>6/17/2016 0:01</td>\n",
       "    </tr>\n",
       "    <tr>\n",
       "      <td>4</td>\n",
       "      <td>10301696</td>\n",
       "      <td>Note by Note: The Making of Steinway L1037 (2007)</td>\n",
       "      <td>http://www.nytimes.com/2007/11/07/movies/07ste...</td>\n",
       "      <td>8</td>\n",
       "      <td>2</td>\n",
       "      <td>walterbell</td>\n",
       "      <td>9/30/2015 4:12</td>\n",
       "    </tr>\n",
       "  </tbody>\n",
       "</table>\n",
       "</div>"
      ],
      "text/plain": [
       "         id                                              title  \\\n",
       "0  12224879                          Interactive Dynamic Video   \n",
       "1  10975351  How to Use Open Source and Shut the Fuck Up at...   \n",
       "2  11964716  Florida DJs May Face Felony for April Fools' W...   \n",
       "3  11919867       Technology ventures: From Idea to Enterprise   \n",
       "4  10301696  Note by Note: The Making of Steinway L1037 (2007)   \n",
       "\n",
       "                                                 url  num_points  \\\n",
       "0            http://www.interactivedynamicvideo.com/         386   \n",
       "1  http://hueniverse.com/2016/01/26/how-to-use-op...          39   \n",
       "2  http://www.thewire.com/entertainment/2013/04/f...           2   \n",
       "3  https://www.amazon.com/Technology-Ventures-Ent...           3   \n",
       "4  http://www.nytimes.com/2007/11/07/movies/07ste...           8   \n",
       "\n",
       "   num_comments      author       created_at  \n",
       "0            52    ne0phyte   8/4/2016 11:52  \n",
       "1            10      josep2  1/26/2016 19:30  \n",
       "2             1    vezycash  6/23/2016 22:20  \n",
       "3             1     hswarna   6/17/2016 0:01  \n",
       "4             2  walterbell   9/30/2015 4:12  "
      ]
     },
     "execution_count": 3,
     "metadata": {},
     "output_type": "execute_result"
    }
   ],
   "source": [
    "hn.head()"
   ]
  },
  {
   "cell_type": "code",
   "execution_count": 4,
   "metadata": {},
   "outputs": [
    {
     "data": {
      "text/html": [
       "<div>\n",
       "<style scoped>\n",
       "    .dataframe tbody tr th:only-of-type {\n",
       "        vertical-align: middle;\n",
       "    }\n",
       "\n",
       "    .dataframe tbody tr th {\n",
       "        vertical-align: top;\n",
       "    }\n",
       "\n",
       "    .dataframe thead th {\n",
       "        text-align: right;\n",
       "    }\n",
       "</style>\n",
       "<table border=\"1\" class=\"dataframe\">\n",
       "  <thead>\n",
       "    <tr style=\"text-align: right;\">\n",
       "      <th></th>\n",
       "      <th>id</th>\n",
       "      <th>title</th>\n",
       "      <th>url</th>\n",
       "      <th>num_points</th>\n",
       "      <th>num_comments</th>\n",
       "      <th>author</th>\n",
       "      <th>created_at</th>\n",
       "    </tr>\n",
       "  </thead>\n",
       "  <tbody>\n",
       "    <tr>\n",
       "      <td>6</td>\n",
       "      <td>10557283</td>\n",
       "      <td>Nuts and Bolts Business Advice</td>\n",
       "      <td>NaN</td>\n",
       "      <td>3</td>\n",
       "      <td>4</td>\n",
       "      <td>shomberj</td>\n",
       "      <td>11/13/2015 0:45</td>\n",
       "    </tr>\n",
       "    <tr>\n",
       "      <td>7</td>\n",
       "      <td>12296411</td>\n",
       "      <td>Ask HN: How to improve my personal website?</td>\n",
       "      <td>NaN</td>\n",
       "      <td>2</td>\n",
       "      <td>6</td>\n",
       "      <td>ahmedbaracat</td>\n",
       "      <td>8/16/2016 9:55</td>\n",
       "    </tr>\n",
       "    <tr>\n",
       "      <td>15</td>\n",
       "      <td>12335860</td>\n",
       "      <td>How often to update third party libraries?</td>\n",
       "      <td>NaN</td>\n",
       "      <td>7</td>\n",
       "      <td>5</td>\n",
       "      <td>rabid_oxen</td>\n",
       "      <td>8/22/2016 12:37</td>\n",
       "    </tr>\n",
       "    <tr>\n",
       "      <td>17</td>\n",
       "      <td>10610020</td>\n",
       "      <td>Ask HN: Am I the only one outraged by Twitter ...</td>\n",
       "      <td>NaN</td>\n",
       "      <td>28</td>\n",
       "      <td>29</td>\n",
       "      <td>tkfx</td>\n",
       "      <td>11/22/2015 13:43</td>\n",
       "    </tr>\n",
       "    <tr>\n",
       "      <td>22</td>\n",
       "      <td>11610310</td>\n",
       "      <td>Ask HN: Aby recent changes to CSS that broke m...</td>\n",
       "      <td>NaN</td>\n",
       "      <td>1</td>\n",
       "      <td>1</td>\n",
       "      <td>polskibus</td>\n",
       "      <td>5/2/2016 10:14</td>\n",
       "    </tr>\n",
       "  </tbody>\n",
       "</table>\n",
       "</div>"
      ],
      "text/plain": [
       "          id                                              title  url  \\\n",
       "6   10557283                     Nuts and Bolts Business Advice  NaN   \n",
       "7   12296411        Ask HN: How to improve my personal website?  NaN   \n",
       "15  12335860         How often to update third party libraries?  NaN   \n",
       "17  10610020  Ask HN: Am I the only one outraged by Twitter ...  NaN   \n",
       "22  11610310  Ask HN: Aby recent changes to CSS that broke m...  NaN   \n",
       "\n",
       "    num_points  num_comments        author        created_at  \n",
       "6            3             4      shomberj   11/13/2015 0:45  \n",
       "7            2             6  ahmedbaracat    8/16/2016 9:55  \n",
       "15           7             5    rabid_oxen   8/22/2016 12:37  \n",
       "17          28            29          tkfx  11/22/2015 13:43  \n",
       "22           1             1     polskibus    5/2/2016 10:14  "
      ]
     },
     "execution_count": 4,
     "metadata": {},
     "output_type": "execute_result"
    }
   ],
   "source": [
    "hn[hn.url.isnull()].head()"
   ]
  },
  {
   "cell_type": "code",
   "execution_count": 5,
   "metadata": {},
   "outputs": [
    {
     "data": {
      "text/html": [
       "<div>\n",
       "<style scoped>\n",
       "    .dataframe tbody tr th:only-of-type {\n",
       "        vertical-align: middle;\n",
       "    }\n",
       "\n",
       "    .dataframe tbody tr th {\n",
       "        vertical-align: top;\n",
       "    }\n",
       "\n",
       "    .dataframe thead th {\n",
       "        text-align: right;\n",
       "    }\n",
       "</style>\n",
       "<table border=\"1\" class=\"dataframe\">\n",
       "  <thead>\n",
       "    <tr style=\"text-align: right;\">\n",
       "      <th></th>\n",
       "      <th>id</th>\n",
       "      <th>title</th>\n",
       "      <th>url</th>\n",
       "      <th>num_points</th>\n",
       "      <th>num_comments</th>\n",
       "      <th>author</th>\n",
       "      <th>created_at</th>\n",
       "    </tr>\n",
       "  </thead>\n",
       "  <tbody>\n",
       "    <tr>\n",
       "      <td>11909</td>\n",
       "      <td>12445994</td>\n",
       "      <td>iPhone 7</td>\n",
       "      <td>http://www.apple.com/iPhone7</td>\n",
       "      <td>756</td>\n",
       "      <td>1733</td>\n",
       "      <td>benigeri</td>\n",
       "      <td>9/7/2016 18:52</td>\n",
       "    </tr>\n",
       "  </tbody>\n",
       "</table>\n",
       "</div>"
      ],
      "text/plain": [
       "             id     title                           url  num_points  \\\n",
       "11909  12445994  iPhone 7  http://www.apple.com/iPhone7         756   \n",
       "\n",
       "       num_comments    author      created_at  \n",
       "11909          1733  benigeri  9/7/2016 18:52  "
      ]
     },
     "execution_count": 5,
     "metadata": {},
     "output_type": "execute_result"
    }
   ],
   "source": [
    "hn[hn.num_comments == max(hn.num_comments)]"
   ]
  },
  {
   "cell_type": "markdown",
   "metadata": {},
   "source": [
    "Some quick takeaways on the data include:\n",
    "\n",
    "- The overview verifies that `num_comments` have values equal to or greater than 1 due to the data treatment done to the original source.\n",
    "- Only the `url` column has NaN values. These values seem to be mostly for *Ask HN* posts, which are often stand-alone and don't require external links.\n",
    "- The post with the most number of comments is about iPhone 7, at 1,733 comments."
   ]
  },
  {
   "cell_type": "markdown",
   "metadata": {},
   "source": [
    "## Using the `re` Module\n",
    "\n",
    "Although regular expressions can be used with pandas, Python has a built-in `re` (regular expression) module, which contains functions and classes specifically for working with regular expressions. The power of regular expressions is in the use special character sequences, which allows for sophisticated pattern matching."
   ]
  },
  {
   "cell_type": "markdown",
   "metadata": {},
   "source": [
    "### Simple Patterns\n",
    "\n",
    "The first example below shows using a loop to count the number of matched searches for the Python. Because a regex pattern was used, it becomes unnecessary spell out both title case 'Python' and lower case 'python' in the search. The next example uses the `Series.str.contains()` vectorized method to run a more efficient code."
   ]
  },
  {
   "cell_type": "code",
   "execution_count": 6,
   "metadata": {},
   "outputs": [],
   "source": [
    "import re\n",
    "titles = hn['title']"
   ]
  },
  {
   "cell_type": "code",
   "execution_count": 7,
   "metadata": {},
   "outputs": [
    {
     "name": "stdout",
     "output_type": "stream",
     "text": [
      "160\n"
     ]
    }
   ],
   "source": [
    "mentions = 0\n",
    "for t in titles.tolist():\n",
    "    if re.search('[Pp]ython', t):\n",
    "        mentions += 1\n",
    "        \n",
    "print(mentions)"
   ]
  },
  {
   "cell_type": "code",
   "execution_count": 8,
   "metadata": {},
   "outputs": [
    {
     "data": {
      "text/plain": [
       "160"
      ]
     },
     "execution_count": 8,
     "metadata": {},
     "output_type": "execute_result"
    }
   ],
   "source": [
    "# generate sum using a boolean array\n",
    "titles.str.contains('[Pp]ython').sum()"
   ]
  },
  {
   "cell_type": "code",
   "execution_count": 9,
   "metadata": {},
   "outputs": [
    {
     "data": {
      "text/plain": [
       "0    False\n",
       "1    False\n",
       "2    False\n",
       "3    False\n",
       "4    False\n",
       "Name: title, dtype: bool"
      ]
     },
     "execution_count": 9,
     "metadata": {},
     "output_type": "execute_result"
    }
   ],
   "source": [
    "# generate a boolean array from a series\n",
    "titles.str.contains('[Pp]ython').head()"
   ]
  },
  {
   "cell_type": "code",
   "execution_count": 10,
   "metadata": {},
   "outputs": [
    {
     "data": {
      "text/plain": [
       "103                  From Python to Lua: Why We Switched\n",
       "104            Ubuntu 16.04 LTS to Ship Without Python 2\n",
       "145    Create a GUI Application Using Qt and Python i...\n",
       "197    How I Solved GCHQ's Xmas Card with Python and ...\n",
       "437    Unikernel Power Comes to Java, Node.js, Go, an...\n",
       "Name: title, dtype: object"
      ]
     },
     "execution_count": 10,
     "metadata": {},
     "output_type": "execute_result"
    }
   ],
   "source": [
    "# apply regex-driven boolean mask as filter\n",
    "titles[titles.str.contains(\"[Pp]ython\")].head()"
   ]
  },
  {
   "cell_type": "code",
   "execution_count": 11,
   "metadata": {},
   "outputs": [
    {
     "data": {
      "text/plain": [
       "191                    Ruby on Google AppEngine Goes Beta\n",
       "485          Related: Pure Ruby Relational Algebra Engine\n",
       "1389    Show HN: HTTPalooza  Ruby's greatest HTTP clie...\n",
       "1950    Rewriting a Ruby C Extension in Rust: How a Na...\n",
       "2023    Show HN: CrashBreak  Reproduce exceptions as f...\n",
       "Name: title, dtype: object"
      ]
     },
     "execution_count": 11,
     "metadata": {},
     "output_type": "execute_result"
    }
   ],
   "source": [
    "# sample article titles containing 'Ruby'\n",
    "titles[titles.str.contains('[Rr]uby')].head()"
   ]
  },
  {
   "cell_type": "markdown",
   "metadata": {},
   "source": [
    "### Quantifiers\n",
    "\n",
    "Quantifiers refer to braces ({}) that indicates the number of times the preceding character needs to be repeated in a regular expression. This simplifies the pattern required to match substrings of specific lengths. \n",
    "\n",
    "In the example below, `?` allows search to look for both `e-mail` (where `-` occurs once), and email (where `-` occurs 0 times)."
   ]
  },
  {
   "cell_type": "code",
   "execution_count": 12,
   "metadata": {},
   "outputs": [
    {
     "data": {
      "text/plain": [
       "120     Show HN: Send an email from your shell to your...\n",
       "314         Disposable emails for safe spam free shopping\n",
       "1362    Ask HN: Doing cold emails? helps us prove this...\n",
       "1751    Protect yourself from spam, bots and phishing ...\n",
       "2422                   Ashley Madison hack treating email\n",
       "Name: title, dtype: object"
      ]
     },
     "execution_count": 12,
     "metadata": {},
     "output_type": "execute_result"
    }
   ],
   "source": [
    "titles[titles.str.contains('e-?mail')].head()"
   ]
  },
  {
   "cell_type": "code",
   "execution_count": 13,
   "metadata": {},
   "outputs": [
    {
     "data": {
      "text/plain": [
       "120     Show HN: Send an email from your shell to your...\n",
       "314         Disposable emails for safe spam free shopping\n",
       "1362    Ask HN: Doing cold emails? helps us prove this...\n",
       "1751    Protect yourself from spam, bots and phishing ...\n",
       "2422                   Ashley Madison hack treating email\n",
       "Name: title, dtype: object"
      ]
     },
     "execution_count": 13,
     "metadata": {},
     "output_type": "execute_result"
    }
   ],
   "source": [
    "# use regex as boolean mask\n",
    "titles[titles.str.contains('e-*mail')].head()"
   ]
  },
  {
   "cell_type": "markdown",
   "metadata": {},
   "source": [
    "### Character Classes\n",
    "\n",
    "Character classes refer to a range of characters grouped under a class. Common character classes and their respective regex patterns include:\n",
    "\n",
    "| Character Class | Pattern  | Scope    |\n",
    "|:----------------|:---------|:---------|\n",
    "| digit | \\d | any digit from 0 to 9 |\n",
    "| word | \\w | any digit, uppercase, lowercase, or underscore character |\n",
    "| whitespace | \\s | any space, tab or linebreak character |\n",
    "| dot | . | any character except newline |\n",
    "\n",
    "Character classes are especially useful when there are unknown characters that needed to be accounted for. For instance:"
   ]
  },
  {
   "cell_type": "code",
   "execution_count": 14,
   "metadata": {},
   "outputs": [
    {
     "data": {
      "text/plain": [
       "title\n",
       "Analysis of 114 propaganda sources from ISIS, Jabhat al-Nusra, al-Qaeda [pdf]     NaN\n",
       "Munich Gunman Got Weapon from the Darknet [German]                                NaN\n",
       "File indexing and searching for Plan 9 [pdf]                                      NaN\n",
       "Attack on Kunduz Trauma Centre, Afghanistan  Initial MSF Internal Review [pdf]    NaN\n",
       "[Beta] Speedtest.net  HTML5 Speed Test                                            NaN\n",
       "Name: title, dtype: object"
      ]
     },
     "execution_count": 14,
     "metadata": {},
     "output_type": "execute_result"
    }
   ],
   "source": [
    "# match any tag, i.e., string that has any word within a '[]'\n",
    "tags = titles[titles.str.contains('\\[\\w+\\]')]\n",
    "titles[tags].head()"
   ]
  },
  {
   "cell_type": "markdown",
   "metadata": {},
   "source": [
    "### Capture Groups\n",
    "\n",
    "A capture group is a subset of characters marked by parentheses within a regex pattern, so that captured subset can be reused in some another way."
   ]
  },
  {
   "cell_type": "code",
   "execution_count": 15,
   "metadata": {},
   "outputs": [
    {
     "data": {
      "text/plain": [
       "67     Analysis of 114 propaganda sources from ISIS, ...\n",
       "101    Munich Gunman Got Weapon from the Darknet [Ger...\n",
       "160         File indexing and searching for Plan 9 [pdf]\n",
       "163    Attack on Kunduz Trauma Centre, Afghanistan  I...\n",
       "196               [Beta] Speedtest.net  HTML5 Speed Test\n",
       "Name: title, dtype: object"
      ]
     },
     "execution_count": 15,
     "metadata": {},
     "output_type": "execute_result"
    }
   ],
   "source": [
    "tags.head()"
   ]
  },
  {
   "cell_type": "code",
   "execution_count": 16,
   "metadata": {},
   "outputs": [
    {
     "name": "stdout",
     "output_type": "stream",
     "text": [
      "            0\n",
      "67      [pdf]\n",
      "101  [German]\n",
      "160     [pdf]\n",
      "163     [pdf]\n",
      "196    [Beta]\n"
     ]
    }
   ],
   "source": [
    "# print samples of news tags\n",
    "print(tags.str.extract(r'(\\[\\w+\\])').head())"
   ]
  },
  {
   "cell_type": "code",
   "execution_count": 17,
   "metadata": {},
   "outputs": [
    {
     "name": "stdout",
     "output_type": "stream",
     "text": [
      "          0\n",
      "67      pdf\n",
      "101  German\n",
      "160     pdf\n",
      "163     pdf\n",
      "196    Beta\n"
     ]
    }
   ],
   "source": [
    "# change capture group logic to exclude parentheses in the results\n",
    "print(tags.str.extract(r'\\[(\\w+)\\]').head())"
   ]
  },
  {
   "cell_type": "code",
   "execution_count": 18,
   "metadata": {},
   "outputs": [
    {
     "data": {
      "text/plain": [
       "pdf       276\n",
       "video     111\n",
       "audio       3\n",
       "2015        3\n",
       "slides      2\n",
       "Name: 0, dtype: int64"
      ]
     },
     "execution_count": 18,
     "metadata": {},
     "output_type": "execute_result"
    }
   ],
   "source": [
    "# extract words inside tag brackets\n",
    "tags.str.extract(r'\\[(\\w+)\\]')[0].value_counts().head()"
   ]
  },
  {
   "cell_type": "markdown",
   "metadata": {},
   "source": [
    "### Negative Character Classes\n",
    "\n",
    "Negative character classes are classes explicitly filtered out of a search."
   ]
  },
  {
   "cell_type": "code",
   "execution_count": 19,
   "metadata": {},
   "outputs": [
    {
     "data": {
      "text/plain": [
       "437     Unikernel Power Comes to Java, Node.js, Go, an...\n",
       "812     Ask HN: Are there any projects or compilers wh...\n",
       "1841                    Adopting RxJava on the Airbnb App\n",
       "1973          Node.js vs. Java: Which Is Faster for APIs?\n",
       "2094                    Java EE and Microservices in 2016\n",
       "2368    Code that is valid in both PHP and Java, and p...\n",
       "2494    Ask HN: I've been a java dev for a couple of y...\n",
       "2752                Eventsourcing for Java 0.4.0 released\n",
       "2911                2016 JavaOne Intel Keynote  32mn Talk\n",
       "3453    What are the Differences Between Java Platform...\n",
       "Name: title, dtype: object"
      ]
     },
     "execution_count": 19,
     "metadata": {},
     "output_type": "execute_result"
    }
   ],
   "source": [
    "def first_10_matches(pattern):\n",
    "    '''Return the first 10 story titles\n",
    "       matching the provided pattern\n",
    "    '''\n",
    "    return titles[titles.str.contains(pattern)].head(10)\n",
    "\n",
    "# return matches with `[Jj]ava` excluding those followed by a negative set [^Ss] \n",
    "first_10_matches(r'[Jj]ava[^Ss]')"
   ]
  },
  {
   "cell_type": "markdown",
   "metadata": {},
   "source": [
    "As seen on the example above, the negative set was used in removing any bad matches that mention JavaScript. However, it also had a side-effect. It removes any title where `Java` occurs at the end of the string, like this title:\n",
    "\n",
    "`Pippo  Web framework in Java`\n",
    "\n",
    "The negative set [^Ss] must match one character, so instances at the end of a string are not considered a match.\n",
    "\n",
    "### Word Boundaries\n",
    "\n",
    "A different approach is to use the word boundary anchor, specified using the syntax `\\b`. A word boundary matches the position between a word character and a non-word character, or a word character and the start/end of a string.\n",
    "\n",
    "Here's an example of how using a word boundary changes the match from the string in the example below:"
   ]
  },
  {
   "cell_type": "code",
   "execution_count": 20,
   "metadata": {},
   "outputs": [
    {
     "name": "stdout",
     "output_type": "stream",
     "text": [
      "None\n"
     ]
    }
   ],
   "source": [
    "sample_string = \"Sometimes people confuse JavaScript with Java\"\n",
    "\n",
    "# use negative character\n",
    "print(re.search(r\"Java[^S]\", sample_string))"
   ]
  },
  {
   "cell_type": "code",
   "execution_count": 21,
   "metadata": {},
   "outputs": [
    {
     "name": "stdout",
     "output_type": "stream",
     "text": [
      "<re.Match object; span=(41, 45), match='Java'>\n"
     ]
    }
   ],
   "source": [
    "# use word boundary\n",
    "print(re.search(r\"\\bJava\\b\", sample_string))"
   ]
  },
  {
   "cell_type": "code",
   "execution_count": 22,
   "metadata": {},
   "outputs": [
    {
     "data": {
      "text/plain": [
       "437     Unikernel Power Comes to Java, Node.js, Go, an...\n",
       "812     Ask HN: Are there any projects or compilers wh...\n",
       "1024                         Pippo  Web framework in Java\n",
       "1973          Node.js vs. Java: Which Is Faster for APIs?\n",
       "2094                    Java EE and Microservices in 2016\n",
       "Name: title, dtype: object"
      ]
     },
     "execution_count": 22,
     "metadata": {},
     "output_type": "execute_result"
    }
   ],
   "source": [
    "# use word boundary as a boolean mask\n",
    "titles[titles.str.contains(r'\\b[Jj]ava\\b')].head()"
   ]
  },
  {
   "cell_type": "markdown",
   "metadata": {},
   "source": [
    "### Beginning and End Anchors\n",
    "\n",
    "Other than the word boundary anchor, the other two most common anchors are the beginning anchor and the end anchor, which represent the start and the end of the string, respectfully. The `^` character is used both as a beginning anchor and negative set marker, depending on whether the character preceding it is a `[` or not."
   ]
  },
  {
   "cell_type": "code",
   "execution_count": 23,
   "metadata": {},
   "outputs": [
    {
     "data": {
      "text/plain": [
       "10961    [pdf] Ninth Circuit Decision on AT&T Throttling\n",
       "Name: title, dtype: object"
      ]
     },
     "execution_count": 23,
     "metadata": {},
     "output_type": "execute_result"
    }
   ],
   "source": [
    "titles[titles.str.contains(r'^\\[\\bpdf\\b\\]')]"
   ]
  },
  {
   "cell_type": "code",
   "execution_count": 24,
   "metadata": {},
   "outputs": [
    {
     "data": {
      "text/plain": [
       "196                [Beta] Speedtest.net  HTML5 Speed Test\n",
       "399        [video] Google Self-Driving SUV Sideswipes Bus\n",
       "3137                          [CSS] Yellow Fade Technique\n",
       "5055    [React] proptypes-parser: Define React PropTyp...\n",
       "9390    [Petition] Tell Microsoft to stop making browsers\n",
       "Name: title, dtype: object"
      ]
     },
     "execution_count": 24,
     "metadata": {},
     "output_type": "execute_result"
    }
   ],
   "source": [
    "# capture titles with tags in the beginning\n",
    "titles[titles.str.contains(r'^\\[\\w+\\]')].head()"
   ]
  },
  {
   "cell_type": "code",
   "execution_count": 25,
   "metadata": {},
   "outputs": [
    {
     "data": {
      "text/plain": [
       "67     Analysis of 114 propaganda sources from ISIS, ...\n",
       "101    Munich Gunman Got Weapon from the Darknet [Ger...\n",
       "160         File indexing and searching for Plan 9 [pdf]\n",
       "163    Attack on Kunduz Trauma Centre, Afghanistan  I...\n",
       "211    A plan to rescue western democracy from the ig...\n",
       "Name: title, dtype: object"
      ]
     },
     "execution_count": 25,
     "metadata": {},
     "output_type": "execute_result"
    }
   ],
   "source": [
    "# capture titles with tags in the end\n",
    "titles[titles.str.contains(r'\\[\\w+\\]$')].head()"
   ]
  },
  {
   "cell_type": "markdown",
   "metadata": {},
   "source": [
    "## Challenge: Flags\n",
    "\n",
    "In addition to the options discussed, flags are optional arguments that provide more flexibility in regular expressions. For instance, the `re.I` flag forces the pattern matching to ignore case. For instance:"
   ]
  },
  {
   "cell_type": "code",
   "execution_count": 31,
   "metadata": {},
   "outputs": [
    {
     "data": {
      "text/plain": [
       "0    email\n",
       "dtype: object"
      ]
     },
     "execution_count": 31,
     "metadata": {},
     "output_type": "execute_result"
    }
   ],
   "source": [
    "# match(es) without the re.I flag\n",
    "email_tests = pd.Series(['email', 'Email', 'eMail', 'EMAIL'])\n",
    "email_tests[email_tests.str.contains(r'email')]"
   ]
  },
  {
   "cell_type": "code",
   "execution_count": 32,
   "metadata": {},
   "outputs": [
    {
     "data": {
      "text/plain": [
       "0    email\n",
       "1    Email\n",
       "2    eMail\n",
       "3    EMAIL\n",
       "dtype: object"
      ]
     },
     "execution_count": 32,
     "metadata": {},
     "output_type": "execute_result"
    }
   ],
   "source": [
    "# matches with the re.I flag\n",
    "email_tests[email_tests.str.contains(r\"email\", flags = re.I)]"
   ]
  },
  {
   "cell_type": "code",
   "execution_count": 35,
   "metadata": {},
   "outputs": [
    {
     "data": {
      "text/plain": [
       "120      Show HN: Send an email from your shell to your...\n",
       "162      Computer Specialist Who Deleted Clinton Emails...\n",
       "175                                        Email Apps Suck\n",
       "262      Emails Show Unqualified Clinton Foundation Don...\n",
       "314          Disposable emails for safe spam free shopping\n",
       "                               ...                        \n",
       "18848    Show HN: Crisp iOS keyboard for email and text...\n",
       "19304    Ask HN: Why big email providers don't sign the...\n",
       "19396    I used HTML Email when applying for jobs, here...\n",
       "19447    Tell HN: Secure email provider Riseup will run...\n",
       "19906    Gmail Will Soon Warn Users When Emails Arrive ...\n",
       "Name: title, Length: 143, dtype: object"
      ]
     },
     "execution_count": 35,
     "metadata": {},
     "output_type": "execute_result"
    }
   ],
   "source": [
    "# regex that matches all 'email' variations\n",
    "titles[titles.str.contains(r'\\be[-\\s]?mail', flags=re.I)]"
   ]
  },
  {
   "cell_type": "code",
   "execution_count": 53,
   "metadata": {},
   "outputs": [
    {
     "data": {
      "text/plain": [
       "email     79\n",
       "Email     56\n",
       "e-mail     5\n",
       "E-mail     2\n",
       "E-Mail     1\n",
       "Name: 0, dtype: int64"
      ]
     },
     "execution_count": 53,
     "metadata": {},
     "output_type": "execute_result"
    }
   ],
   "source": [
    "# counts of different 'email' formats in titles\n",
    "titles.str.extract(r'(\\be[-\\s]?mail)', flags=re.I)[0].value_counts()"
   ]
  }
 ],
 "metadata": {
  "kernelspec": {
   "display_name": "Python 3",
   "language": "python",
   "name": "python3"
  },
  "language_info": {
   "codemirror_mode": {
    "name": "ipython",
    "version": 3
   },
   "file_extension": ".py",
   "mimetype": "text/x-python",
   "name": "python",
   "nbconvert_exporter": "python",
   "pygments_lexer": "ipython3",
   "version": "3.7.4"
  }
 },
 "nbformat": 4,
 "nbformat_minor": 2
}
