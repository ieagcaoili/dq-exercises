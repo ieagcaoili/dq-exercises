{
 "cells": [
  {
   "cell_type": "markdown",
   "metadata": {},
   "source": [
    "# Google Play and Apple: Profitable Apps"
   ]
  },
  {
   "cell_type": "markdown",
   "metadata": {},
   "source": [
    "<br></br>\n",
    "<i>[Google Play](https://play.google.com/) is Google's digital distribution platform for the Android OS. Besides apps, it also serves as the company's digital media distribution service, offering music, books, television shows and movies. The [the App Store](https://www.apple.com/ios/app-store/) is Apple app distribution platform, which is indepedent from iTunes Store, Apple's distribution service for digital media.</i>\n",
    "\n",
    "## Overview\n",
    "<br>\n",
    "<i>Note: Since this is the first exercise project in Dataquest's curriculum, this project involves just using basic Pythonic concepts to analyze data. The use of advanced concepts, and libraries are assumed to not be a part of the toolkit.</i>\n",
    "\n",
    "A study needs to be conducted to effectively profile an app to be developed by company XYZ. This company's main revenue source are in-app ads, so the product needs to be free to download and install. Because ad revenue is mostly influenced by user count, the more users who see and engage with the ads, the better. To help developers determine the type of app to build, the focus is on mobile app data from Google Play and the App Store.\n",
    "\n",
    "## Dataset\n",
    "\n",
    "As of September 2018, there are a little over 4 million iOS and Android apps available for download. Exploring the data in this scale requires significant resources, so analysis is done on sample subsets from the Google Play data and the App Store data. They are as follows:\n",
    "\n",
    "- [A set containing data about ten thousand Android apps;](https://www.kaggle.com/lava18/google-play-store-apps) \n",
    "- [A set containing data about seven thousand iOS apps.](https://www.kaggle.com/ramamet4/app-store-apple-data-set-10k-apps)"
   ]
  },
  {
   "cell_type": "code",
   "execution_count": 1,
   "metadata": {},
   "outputs": [],
   "source": [
    "from csv import reader\n",
    "\n",
    "# Google Play\n",
    "android_file = reader(open('datasets/googleplaystore.csv'))\n",
    "android_list = list(android_file)\n",
    "android_header = android_list[0]\n",
    "android = android_list[1:]\n",
    "\n",
    "# App Store\n",
    "ios_file = reader(open('datasets/applestore.csv'))\n",
    "ios_list = list(ios_file)\n",
    "ios_header = ios_list[0]\n",
    "ios = ios_list[1:]"
   ]
  },
  {
   "cell_type": "markdown",
   "metadata": {},
   "source": [
    "To explore these two data sets, the function `explore_data` provides a way to take a sample and display some metadata. Below are samples of the Google Play data and the App Store data, with row and column counts."
   ]
  },
  {
   "cell_type": "code",
   "execution_count": 2,
   "metadata": {},
   "outputs": [
    {
     "name": "stdout",
     "output_type": "stream",
     "text": [
      "['App', 'Category', 'Rating', 'Reviews', 'Size', 'Installs', 'Type', 'Price', 'Content Rating', 'Genres', 'Last Updated', 'Current Ver', 'Android Ver']\n",
      "\n",
      "\n",
      "['Photo Editor & Candy Camera & Grid & ScrapBook', 'ART_AND_DESIGN', '4.1', '159', '19M', '10,000+', 'Free', '0', 'Everyone', 'Art & Design', 'January 7, 2018', '1.0.0', '4.0.3 and up']\n",
      "\n",
      "\n",
      "['Coloring book moana', 'ART_AND_DESIGN', '3.9', '967', '14M', '500,000+', 'Free', '0', 'Everyone', 'Art & Design;Pretend Play', 'January 15, 2018', '2.0.0', '4.0.3 and up']\n",
      "\n",
      "\n",
      "['U Launcher Lite – FREE Live Cool Themes, Hide Apps', 'ART_AND_DESIGN', '4.7', '87510', '8.7M', '5,000,000+', 'Free', '0', 'Everyone', 'Art & Design', 'August 1, 2018', '1.2.4', '4.0.3 and up']\n",
      "\n",
      "\n",
      "Number of rows: 10841\n",
      "Number of columns: 13\n"
     ]
    }
   ],
   "source": [
    "def explore_data(dataset, start, end, rows_and_columns=False):\n",
    "    dataset_slice = dataset[start:end]    \n",
    "    for row in dataset_slice:\n",
    "        print(row)\n",
    "        print('\\n')\n",
    "\n",
    "    if rows_and_columns:\n",
    "        print('Number of rows:', len(dataset))\n",
    "        print('Number of columns:', len(dataset[0]))\n",
    "        \n",
    "print(android_header)\n",
    "print('\\n')\n",
    "explore_data(android, 0, 3, True)"
   ]
  },
  {
   "cell_type": "code",
   "execution_count": 3,
   "metadata": {},
   "outputs": [
    {
     "name": "stdout",
     "output_type": "stream",
     "text": [
      "['id', 'track_name', 'size_bytes', 'currency', 'price', 'rating_count_tot', 'rating_count_ver', 'user_rating', 'user_rating_ver', 'ver', 'cont_rating', 'prime_genre', 'sup_devices.num', 'ipadSc_urls.num', 'lang.num', 'vpp_lic']\n",
      "\n",
      "\n",
      "['284882215', 'Facebook', '389879808', 'USD', '0.0', '2974676', '212', '3.5', '3.5', '95.0', '4+', 'Social Networking', '37', '1', '29', '1']\n",
      "\n",
      "\n",
      "['389801252', 'Instagram', '113954816', 'USD', '0.0', '2161558', '1289', '4.5', '4.0', '10.23', '12+', 'Photo & Video', '37', '0', '29', '1']\n",
      "\n",
      "\n",
      "['529479190', 'Clash of Clans', '116476928', 'USD', '0.0', '2130805', '579', '4.5', '4.5', '9.24.12', '9+', 'Games', '38', '5', '18', '1']\n",
      "\n",
      "\n",
      "Number of rows: 7197\n",
      "Number of columns: 16\n"
     ]
    }
   ],
   "source": [
    "print(ios_header)\n",
    "print('\\n')\n",
    "explore_data(ios, 0, 3, True)"
   ]
  },
  {
   "cell_type": "markdown",
   "metadata": {},
   "source": [
    "Using the samples above, these are the things to note:\n",
    "\n",
    "- The data sets include exactly 10,841 Android apps, and 7,197 iOS apps.\n",
    "- At a quick glance, the Google Play data columns that might be useful for analysis are `App`, `Category`, `Reviews`, `Installs`, `Type`, `Price`, and `Genres`.\n",
    "- Using the iOS data set [documentation](https://www.kaggle.com/ramamet4/app-store-apple-data-set-10k-apps/home) as guide, the columns that seem relevant are: `track_name`, `currency`, `price`, `rating_count_tot`, `rating_count_ver`, and `prime_genre`.\n",
    "\n",
    "\n",
    "\n",
    "## Data Cleaning\n",
    "\n",
    "Prior to analysis, it seems useful to go through the data, and take out any errors or inconsistencies. Duplicates, false entries, or other inaccuracies may lead to issues later on in the analysis.\n",
    "\n",
    "To start, in [one of the discussions](https://www.kaggle.com/lava18/google-play-store-apps/discussion/66015) from the source of the Google Play data set, there seems to be a consensus about an error on row 10472."
   ]
  },
  {
   "cell_type": "code",
   "execution_count": 4,
   "metadata": {},
   "outputs": [
    {
     "name": "stdout",
     "output_type": "stream",
     "text": [
      "['App', 'Category', 'Rating', 'Reviews', 'Size', 'Installs', 'Type', 'Price', 'Content Rating', 'Genres', 'Last Updated', 'Current Ver', 'Android Ver']\n",
      "['Life Made WI-Fi Touchscreen Photo Frame', '1.9', '19', '3.0M', '1,000+', 'Free', '0', 'Everyone', '', 'February 11, 2018', '1.0.19', '4.0 and up']\n"
     ]
    }
   ],
   "source": [
    "print(android_header)\n",
    "print(android[10472])"
   ]
  },
  {
   "cell_type": "markdown",
   "metadata": {},
   "source": [
    "The rating for this row, `19` seems inaccurate, since the maximum Google Play app rating is 5. As consequence, this row would be removed."
   ]
  },
  {
   "cell_type": "code",
   "execution_count": 5,
   "metadata": {},
   "outputs": [
    {
     "name": "stdout",
     "output_type": "stream",
     "text": [
      "10841\n",
      "10840\n"
     ]
    }
   ],
   "source": [
    "# before and after row counts for verification\n",
    "print(len(android))\n",
    "del android[10472]\n",
    "print(len(android))"
   ]
  },
  {
   "cell_type": "markdown",
   "metadata": {},
   "source": [
    "### Checking for Duplicates\n",
    "\n",
    "When analyzing data, it is important that duplicates do not skew results, so duplicate entries need to be consolidated. Dupe tests on both Google Play and iOS follow."
   ]
  },
  {
   "cell_type": "code",
   "execution_count": 6,
   "metadata": {},
   "outputs": [
    {
     "name": "stdout",
     "output_type": "stream",
     "text": [
      "Number of duplicate apps: 2\n",
      "Examples of duplicate apps: ['Mannequin Challenge', 'VR Roller Coaster']\n"
     ]
    }
   ],
   "source": [
    "duplicate_apps = []\n",
    "unique_apps = []\n",
    "\n",
    "for app in ios:\n",
    "    name = app[1]\n",
    "    if name in unique_apps:\n",
    "        duplicate_apps.append(name)\n",
    "    else:\n",
    "        unique_apps.append(name)\n",
    "    \n",
    "print('Number of duplicate apps:', len(duplicate_apps))\n",
    "print('Examples of duplicate apps:', duplicate_apps[:15])"
   ]
  },
  {
   "cell_type": "code",
   "execution_count": 7,
   "metadata": {
    "scrolled": false
   },
   "outputs": [
    {
     "name": "stdout",
     "output_type": "stream",
     "text": [
      "['id', 'track_name', 'size_bytes', 'currency', 'price', 'rating_count_tot', 'rating_count_ver', 'user_rating', 'user_rating_ver', 'ver', 'cont_rating', 'prime_genre', 'sup_devices.num', 'ipadSc_urls.num', 'lang.num', 'vpp_lic']\n",
      "['952877179', 'VR Roller Coaster', '169523200', 'USD', '0.0', '107', '102', '3.5', '3.5', '2.0.0', '4+', 'Games', '37', '5', '1', '1']\n",
      "['1089824278', 'VR Roller Coaster', '240964608', 'USD', '0.0', '67', '44', '3.5', '4.0', '0.81', '4+', 'Games', '38', '0', '1', '1']\n"
     ]
    }
   ],
   "source": [
    "print(ios_header)\n",
    "for app in ios:\n",
    "    name = app[1]\n",
    "    if name == 'VR Roller Coaster':\n",
    "        print(app)"
   ]
  },
  {
   "cell_type": "markdown",
   "metadata": {},
   "source": [
    "These rows seem to refer to two different builds / versions of the same app. Since the more recent build would include more current reviews, the newer builds would be kept."
   ]
  },
  {
   "cell_type": "code",
   "execution_count": 8,
   "metadata": {},
   "outputs": [
    {
     "name": "stdout",
     "output_type": "stream",
     "text": [
      "Number of duplicate apps: 1181\n",
      "Examples of duplicate apps: ['Quick PDF Scanner + OCR FREE', 'Box', 'Google My Business', 'ZOOM Cloud Meetings', 'join.me - Simple Meetings', 'Box', 'Zenefits', 'Google Ads', 'Google My Business', 'Slack', 'FreshBooks Classic', 'Insightly CRM', 'QuickBooks Accounting: Invoicing & Expenses', 'HipChat - Chat Built for Teams', 'Xero Accounting Software']\n"
     ]
    }
   ],
   "source": [
    "duplicate_apps = []\n",
    "unique_apps = []\n",
    "\n",
    "for app in android:\n",
    "    name = app[0]\n",
    "    if name in unique_apps:\n",
    "        duplicate_apps.append(name)\n",
    "    else:\n",
    "        unique_apps.append(name)\n",
    "    \n",
    "print('Number of duplicate apps:', len(duplicate_apps))\n",
    "print('Examples of duplicate apps:', duplicate_apps[:15])"
   ]
  },
  {
   "cell_type": "code",
   "execution_count": 9,
   "metadata": {},
   "outputs": [
    {
     "name": "stdout",
     "output_type": "stream",
     "text": [
      "['App', 'Category', 'Rating', 'Reviews', 'Size', 'Installs', 'Type', 'Price', 'Content Rating', 'Genres', 'Last Updated', 'Current Ver', 'Android Ver']\n",
      "['Slack', 'BUSINESS', '4.4', '51507', 'Varies with device', '5,000,000+', 'Free', '0', 'Everyone', 'Business', 'August 2, 2018', 'Varies with device', 'Varies with device']\n",
      "['Slack', 'BUSINESS', '4.4', '51507', 'Varies with device', '5,000,000+', 'Free', '0', 'Everyone', 'Business', 'August 2, 2018', 'Varies with device', 'Varies with device']\n",
      "['Slack', 'BUSINESS', '4.4', '51510', 'Varies with device', '5,000,000+', 'Free', '0', 'Everyone', 'Business', 'August 2, 2018', 'Varies with device', 'Varies with device']\n"
     ]
    }
   ],
   "source": [
    "print(android_header)\n",
    "for app in android:\n",
    "    name = app[0]\n",
    "    if name == 'Slack':\n",
    "        print(app)"
   ]
  },
  {
   "cell_type": "markdown",
   "metadata": {},
   "source": [
    "The rows seem to be the same, except for the fourth column (corresponding to the review count). Since a higher review count usually corresponds to a more reliable rating, the column with the highest review count would be retained."
   ]
  },
  {
   "cell_type": "markdown",
   "metadata": {},
   "source": [
    "### Removing Duplicates\n",
    "\n",
    "Although dropping the duplicate rows in the iOS data set seem straightforward, deleting about 1,100 rows from the Android data set would be cumbersome without some form of automation. The identified steps to resolve this are as follows:\n",
    "\n",
    "1. Create a dictionary where each key is a unique app name, and the value is the highest number of reviews of that app\n",
    "2. Use the dictionary to create a new data set, which would have only one entry per app"
   ]
  },
  {
   "cell_type": "code",
   "execution_count": 10,
   "metadata": {},
   "outputs": [
    {
     "name": "stdout",
     "output_type": "stream",
     "text": [
      "Expected Row Count: 9659\n",
      "Actual Row Count: 9659\n"
     ]
    }
   ],
   "source": [
    "reviews_max = {}\n",
    "\n",
    "for app in android:\n",
    "    name = app[0]\n",
    "    n_reviews = float(app[3])\n",
    "    \n",
    "    if name in reviews_max and reviews_max[name] < n_reviews:\n",
    "        reviews_max[name] = n_reviews\n",
    "        \n",
    "    elif name not in reviews_max:\n",
    "        reviews_max[name] = n_reviews\n",
    "\n",
    "print('Expected Row Count:', len(android) - 1181) # minus duplicates\n",
    "print('Actual Row Count:', len(reviews_max))"
   ]
  },
  {
   "cell_type": "code",
   "execution_count": 11,
   "metadata": {},
   "outputs": [
    {
     "name": "stdout",
     "output_type": "stream",
     "text": [
      "['Photo Editor & Candy Camera & Grid & ScrapBook', 'ART_AND_DESIGN', '4.1', '159', '19M', '10,000+', 'Free', '0', 'Everyone', 'Art & Design', 'January 7, 2018', '1.0.0', '4.0.3 and up']\n",
      "\n",
      "\n",
      "['U Launcher Lite – FREE Live Cool Themes, Hide Apps', 'ART_AND_DESIGN', '4.7', '87510', '8.7M', '5,000,000+', 'Free', '0', 'Everyone', 'Art & Design', 'August 1, 2018', '1.2.4', '4.0.3 and up']\n",
      "\n",
      "\n",
      "['Sketch - Draw & Paint', 'ART_AND_DESIGN', '4.5', '215644', '25M', '50,000,000+', 'Free', '0', 'Teen', 'Art & Design', 'June 8, 2018', 'Varies with device', '4.2 and up']\n",
      "\n",
      "\n",
      "Number of rows: 9659\n",
      "Number of columns: 13\n"
     ]
    }
   ],
   "source": [
    "android_clean = []\n",
    "already_added = []\n",
    "\n",
    "for app in android:\n",
    "    name = app[0]\n",
    "    n_reviews = float(app[3])\n",
    "    \n",
    "    if (reviews_max[name] == n_reviews) and (name not in already_added):\n",
    "        android_clean.append(app)\n",
    "        already_added.append(name)\n",
    "        \n",
    "explore_data(android_clean, 0, 3, True)"
   ]
  },
  {
   "cell_type": "code",
   "execution_count": 12,
   "metadata": {},
   "outputs": [
    {
     "data": {
      "text/plain": [
       "'rating_count_tot'"
      ]
     },
     "execution_count": 12,
     "metadata": {},
     "output_type": "execute_result"
    }
   ],
   "source": [
    "ios_header[5]"
   ]
  },
  {
   "cell_type": "code",
   "execution_count": 13,
   "metadata": {},
   "outputs": [
    {
     "name": "stdout",
     "output_type": "stream",
     "text": [
      "Expected Row Count: 7195\n",
      "Actual Row Count: 7195\n"
     ]
    }
   ],
   "source": [
    "reviews_max = {}\n",
    "\n",
    "for app in ios:\n",
    "    name = app[1]\n",
    "    n_reviews = float(app[5])\n",
    "    \n",
    "    if name in reviews_max and reviews_max[name] < n_reviews:\n",
    "        reviews_max[name] = n_reviews\n",
    "        \n",
    "    elif name not in reviews_max:\n",
    "        reviews_max[name] = n_reviews\n",
    "\n",
    "print('Expected Row Count:', len(ios) - 2) # minus duplicates\n",
    "print('Actual Row Count:', len(reviews_max))"
   ]
  },
  {
   "cell_type": "code",
   "execution_count": 14,
   "metadata": {},
   "outputs": [
    {
     "name": "stdout",
     "output_type": "stream",
     "text": [
      "['284882215', 'Facebook', '389879808', 'USD', '0.0', '2974676', '212', '3.5', '3.5', '95.0', '4+', 'Social Networking', '37', '1', '29', '1']\n",
      "\n",
      "\n",
      "['389801252', 'Instagram', '113954816', 'USD', '0.0', '2161558', '1289', '4.5', '4.0', '10.23', '12+', 'Photo & Video', '37', '0', '29', '1']\n",
      "\n",
      "\n",
      "['529479190', 'Clash of Clans', '116476928', 'USD', '0.0', '2130805', '579', '4.5', '4.5', '9.24.12', '9+', 'Games', '38', '5', '18', '1']\n",
      "\n",
      "\n",
      "Number of rows: 7195\n",
      "Number of columns: 16\n"
     ]
    }
   ],
   "source": [
    "ios_clean = []\n",
    "already_added = []\n",
    "\n",
    "for app in ios:\n",
    "    name = app[1]\n",
    "    n_reviews = float(app[5])\n",
    "    \n",
    "    if (reviews_max[name] == n_reviews) and (name not in already_added):\n",
    "        ios_clean.append(app)\n",
    "        already_added.append(name)\n",
    "        \n",
    "explore_data(ios_clean, 0, 3, True)"
   ]
  },
  {
   "cell_type": "markdown",
   "metadata": {},
   "source": [
    "### Removing Non-English Apps\n",
    "\n",
    "Since the preliminary target market is US-based users, it seems useful to remove some of the apps that may not be directed toward an English-speaking audience. Below are some example apps, from both sets:"
   ]
  },
  {
   "cell_type": "code",
   "execution_count": 15,
   "metadata": {},
   "outputs": [
    {
     "name": "stdout",
     "output_type": "stream",
     "text": [
      "iOS Examples:\n",
      "爱奇艺PPS -《欢乐颂2》电视剧热播\n",
      "激ムズ！和のひとふで書き！ 〜頭をつかう脳トレパズルゲーム〜\n"
     ]
    }
   ],
   "source": [
    "print('iOS Examples:')\n",
    "print(ios_clean[813][1])\n",
    "print(ios_clean[6731][1])"
   ]
  },
  {
   "cell_type": "code",
   "execution_count": 16,
   "metadata": {},
   "outputs": [
    {
     "name": "stdout",
     "output_type": "stream",
     "text": [
      "Android Examples:\n",
      "中国語 AQリスニング\n",
      "لعبة تقدر تربح DZ\n"
     ]
    }
   ],
   "source": [
    "print('Android Examples:')\n",
    "print(android_clean[4412][0])\n",
    "print(android_clean[7940][0])"
   ]
  },
  {
   "cell_type": "markdown",
   "metadata": {},
   "source": [
    "One way to go about this is to identify app names with symbols not commonly used in English texts. \n",
    "\n",
    "Since English characters are encoded using the ASCII standard, non-ASCII characters could be used as a filter. In addition, because each ASCII character corresponds to a number between 0 and 127, the built-in `ord()` function could be used as a delimiter.\n",
    "\n",
    "The only other consideration is that some English app names use emojis or other symbols (™, — (em dash), – (en dash), etc.) that fall outside of the ASCII range. To minimize the impact of data loss, an app would only be removed if the name has more than three non-ASCII characters. \n",
    "\n",
    "This approach would not be perfect, but this seems good enough at this point of the analysis."
   ]
  },
  {
   "cell_type": "code",
   "execution_count": 17,
   "metadata": {},
   "outputs": [
    {
     "name": "stdout",
     "output_type": "stream",
     "text": [
      "False\n",
      "True\n",
      "True\n",
      "True\n"
     ]
    }
   ],
   "source": [
    "def is_english(string):\n",
    "    non_ascii = 0\n",
    "    \n",
    "    for character in string:\n",
    "        if ord(character) > 127:\n",
    "            non_ascii += 1\n",
    "    \n",
    "    if non_ascii > 3:\n",
    "        return False\n",
    "    else:\n",
    "        return True\n",
    "\n",
    "print(is_english('爱奇艺PPS -《欢乐颂2》电视剧热播'))\n",
    "print(is_english('Instagram'))\n",
    "print(is_english('Docs To Go™ Free Office Suite'))\n",
    "print(is_english('Instachat 😜'))"
   ]
  },
  {
   "cell_type": "code",
   "execution_count": 18,
   "metadata": {},
   "outputs": [
    {
     "name": "stdout",
     "output_type": "stream",
     "text": [
      "['Photo Editor & Candy Camera & Grid & ScrapBook', 'ART_AND_DESIGN', '4.1', '159', '19M', '10,000+', 'Free', '0', 'Everyone', 'Art & Design', 'January 7, 2018', '1.0.0', '4.0.3 and up']\n",
      "\n",
      "\n",
      "['U Launcher Lite – FREE Live Cool Themes, Hide Apps', 'ART_AND_DESIGN', '4.7', '87510', '8.7M', '5,000,000+', 'Free', '0', 'Everyone', 'Art & Design', 'August 1, 2018', '1.2.4', '4.0.3 and up']\n",
      "\n",
      "\n",
      "['Sketch - Draw & Paint', 'ART_AND_DESIGN', '4.5', '215644', '25M', '50,000,000+', 'Free', '0', 'Teen', 'Art & Design', 'June 8, 2018', 'Varies with device', '4.2 and up']\n",
      "\n",
      "\n",
      "Number of rows: 9614\n",
      "Number of columns: 13\n",
      "\n",
      "\n",
      "['284882215', 'Facebook', '389879808', 'USD', '0.0', '2974676', '212', '3.5', '3.5', '95.0', '4+', 'Social Networking', '37', '1', '29', '1']\n",
      "\n",
      "\n",
      "['389801252', 'Instagram', '113954816', 'USD', '0.0', '2161558', '1289', '4.5', '4.0', '10.23', '12+', 'Photo & Video', '37', '0', '29', '1']\n",
      "\n",
      "\n",
      "['529479190', 'Clash of Clans', '116476928', 'USD', '0.0', '2130805', '579', '4.5', '4.5', '9.24.12', '9+', 'Games', '38', '5', '18', '1']\n",
      "\n",
      "\n",
      "Number of rows: 6181\n",
      "Number of columns: 16\n"
     ]
    }
   ],
   "source": [
    "android_english = []\n",
    "ios_english = []\n",
    "\n",
    "for app in android_clean:\n",
    "    name = app[0]\n",
    "    if is_english(name):\n",
    "        android_english.append(app)\n",
    "        \n",
    "for app in ios_clean:\n",
    "    name = app[1]\n",
    "    if is_english(name):\n",
    "        ios_english.append(app)\n",
    "        \n",
    "explore_data(android_english, 0, 3, True)\n",
    "print('\\n')\n",
    "explore_data(ios_english, 0, 3, True)"
   ]
  },
  {
   "cell_type": "markdown",
   "metadata": {},
   "source": [
    "### Removing Paid Apps\n",
    "\n",
    "Since the analysis should be on free apps, paid apps should be removed from the study."
   ]
  },
  {
   "cell_type": "code",
   "execution_count": 19,
   "metadata": {},
   "outputs": [
    {
     "name": "stdout",
     "output_type": "stream",
     "text": [
      "8864\n",
      "3220\n"
     ]
    }
   ],
   "source": [
    "android_final = []\n",
    "ios_final = []\n",
    "\n",
    "for app in android_english:\n",
    "    price = app[7]\n",
    "    if price == '0':\n",
    "        android_final.append(app)\n",
    "        \n",
    "for app in ios_english:\n",
    "    price = app[4]\n",
    "    if price == '0.0':\n",
    "        ios_final.append(app)\n",
    "        \n",
    "print(len(android_final))\n",
    "print(len(ios_final))"
   ]
  },
  {
   "cell_type": "markdown",
   "metadata": {},
   "source": [
    "## Analysis\n",
    "\n",
    "As mentioned in the introduction, the aim is to determine the kinds of free apps likely to attract a significant user base, which is correlated to higher company revenue. \n",
    "\n",
    "To minimize risks and overhead, validation strategy for the app is comprised of three steps:\n",
    "\n",
    "1. Build an MVP Android app, and add it to Google Play.\n",
    "2. If the app has a good response from users, develop it further.\n",
    "3. If the app is profitable after six months, build an iOS version of the app and launch it on the App Store.\n",
    "\n",
    "Because the end goal is to make the app available on both App Store and Google Play, the app profile has to be successful on both markets. \n",
    "\n",
    "### Popular Genres: App Counts\n",
    "\n",
    "The most common genres for each market could be a good place to start for some high-level analysis. To start, the `prime_genre` column of the App Store data set, and the `Category` columns of the Google Play data set would be used to build frequency tables."
   ]
  },
  {
   "cell_type": "code",
   "execution_count": 20,
   "metadata": {},
   "outputs": [],
   "source": [
    "def freq_table(dataset, index):\n",
    "    table = {}\n",
    "    total = 0\n",
    "    \n",
    "    for row in dataset:\n",
    "        total += 1\n",
    "        value = row[index]\n",
    "        if value in table:\n",
    "            table[value] += 1\n",
    "        else:\n",
    "            table[value] = 1\n",
    "    \n",
    "    table_percentages = {}\n",
    "\n",
    "    for key in table:\n",
    "        percentage = (table[key] / total) * 100\n",
    "        table_percentages[key] = round(percentage, 2)\n",
    "    \n",
    "    return table_percentages\n",
    "\n",
    "\n",
    "def sort_table(dataset, index):\n",
    "    table = freq_table(dataset, index)\n",
    "    table_display = []\n",
    "    \n",
    "    for key in table:\n",
    "        key_val_as_tuple = (table[key], key)\n",
    "        table_display.append(key_val_as_tuple)\n",
    "        \n",
    "    table_sorted = sorted(table_display, reverse = True)\n",
    "    \n",
    "    for entry in table_sorted:\n",
    "        print('{0:5.2f}%: {1}'.format(entry[0],entry[1]).title())"
   ]
  },
  {
   "cell_type": "code",
   "execution_count": 21,
   "metadata": {},
   "outputs": [
    {
     "name": "stdout",
     "output_type": "stream",
     "text": [
      "58.14%: Games\n",
      " 7.89%: Entertainment\n",
      " 4.97%: Photo & Video\n",
      " 3.66%: Education\n",
      " 3.29%: Social Networking\n",
      " 2.61%: Shopping\n",
      " 2.52%: Utilities\n",
      " 2.14%: Sports\n",
      " 2.05%: Music\n",
      " 2.02%: Health & Fitness\n",
      " 1.74%: Productivity\n",
      " 1.58%: Lifestyle\n",
      " 1.34%: News\n",
      " 1.24%: Travel\n",
      " 1.12%: Finance\n",
      " 0.87%: Weather\n",
      " 0.81%: Food & Drink\n",
      " 0.56%: Reference\n",
      " 0.53%: Business\n",
      " 0.43%: Book\n",
      " 0.19%: Navigation\n",
      " 0.19%: Medical\n",
      " 0.12%: Catalogs\n"
     ]
    }
   ],
   "source": [
    "sort_table(ios_final, -5)"
   ]
  },
  {
   "cell_type": "code",
   "execution_count": 22,
   "metadata": {},
   "outputs": [
    {
     "name": "stdout",
     "output_type": "stream",
     "text": [
      "18.91%: Family\n",
      " 9.72%: Game\n",
      " 8.46%: Tools\n",
      " 4.59%: Business\n",
      " 3.90%: Lifestyle\n",
      " 3.89%: Productivity\n",
      " 3.70%: Finance\n",
      " 3.53%: Medical\n",
      " 3.40%: Sports\n",
      " 3.32%: Personalization\n",
      " 3.24%: Communication\n",
      " 3.08%: Health_And_Fitness\n",
      " 2.94%: Photography\n",
      " 2.80%: News_And_Magazines\n",
      " 2.66%: Social\n",
      " 2.34%: Travel_And_Local\n",
      " 2.25%: Shopping\n",
      " 2.14%: Books_And_Reference\n",
      " 1.86%: Dating\n",
      " 1.79%: Video_Players\n",
      " 1.40%: Maps_And_Navigation\n",
      " 1.24%: Food_And_Drink\n",
      " 1.16%: Education\n",
      " 0.96%: Entertainment\n",
      " 0.94%: Libraries_And_Demo\n",
      " 0.93%: Auto_And_Vehicles\n",
      " 0.82%: House_And_Home\n",
      " 0.80%: Weather\n",
      " 0.71%: Events\n",
      " 0.65%: Parenting\n",
      " 0.64%: Art_And_Design\n",
      " 0.62%: Comics\n",
      " 0.60%: Beauty\n"
     ]
    }
   ],
   "source": [
    "sort_table(android_final, 1)"
   ]
  },
  {
   "cell_type": "markdown",
   "metadata": {},
   "source": [
    "The data above suggests that the App Store is dominated by apps designed for fun (games, entertainment, etc.) having about 3 in 4 apps released. Games occupy 58%, Entertainment close to 8%, and Photo and Video about 5%, making the top three genres. Apps that are more utilitarian (Education, for instance) occupy significantly less of the share. However, the fact that there are a lot of games available does not imply that there are a lot of users; the demand might not be proportional to the supply.\n",
    "\n",
    "The landscape seems a bit different on Google Play, where there are more apps designed for practical purposes. Although the top two categories are for fun (Family is mostly about games for kids), utilitarian apps make up about 65 - 70% of the total.\n",
    "\n",
    "### Popular Genres: User Count\n",
    "\n",
    "Another way to find out the most popular genres — and one that seems closer to goal — is to look at the user base, through number of installs. For the Google Play data set, we can find this information in the `Installs` column, but for the App Store data set this information is missing. The `rating_count_tot`, which counts the user ratings, could serve as proxy.\n",
    "\n",
    "### *User Counts: App Store*"
   ]
  },
  {
   "cell_type": "code",
   "execution_count": 23,
   "metadata": {},
   "outputs": [
    {
     "name": "stdout",
     "output_type": "stream",
     "text": [
      "86,090: Navigation\n",
      "74,942: Reference\n",
      "71,548: Social Networking\n",
      "57,327: Music\n",
      "52,280: Weather\n",
      "39,758: Book\n",
      "33,334: Food & Drink\n",
      "31,468: Finance\n",
      "28,442: Photo & Video\n",
      "28,244: Travel\n",
      "26,920: Shopping\n",
      "23,298: Health & Fitness\n",
      "23,009: Sports\n",
      "22,813: Games\n",
      "21,248: News\n",
      "21,028: Productivity\n",
      "18,684: Utilities\n",
      "16,486: Lifestyle\n",
      "14,030: Entertainment\n",
      " 7,491: Business\n",
      " 7,004: Education\n",
      " 4,004: Catalogs\n",
      "   612: Medical\n"
     ]
    }
   ],
   "source": [
    "ios_genres = freq_table(ios_final, -5)\n",
    "ios_ratings = {}\n",
    "\n",
    "for genre in ios_genres:\n",
    "    sum_ratings = 0\n",
    "    sum_apps = 0\n",
    "    \n",
    "    for app in ios_final:\n",
    "        app_genre = app[-5]\n",
    "        if app_genre == genre:            \n",
    "            ratings = float(app[5])\n",
    "            sum_ratings += ratings\n",
    "            sum_apps += 1\n",
    "\n",
    "    avg_ratings = round(sum_ratings / sum_apps)\n",
    "    ios_ratings[avg_ratings] = genre\n",
    "    \n",
    "ios_sorted = sorted(ios_ratings, reverse=True)\n",
    "    \n",
    "for i in ios_sorted:\n",
    "    print('{0:6,}: {1}'.format(i, ios_ratings[i]))"
   ]
  },
  {
   "cell_type": "code",
   "execution_count": 24,
   "metadata": {
    "scrolled": true
   },
   "outputs": [
    {
     "name": "stdout",
     "output_type": "stream",
     "text": [
      "   345,046: Waze - GPS Navigation, Maps & Real-time Traffic\n",
      "   154,911: Google Maps - Navigation & Transit\n",
      "    12,811: Geocaching®\n",
      "     3,582: CoPilot GPS – Car Navigation & Offline Maps\n",
      "       187: ImmobilienScout24: Real Estate Search in Germany\n",
      "         5: Railway Route Search\n"
     ]
    }
   ],
   "source": [
    "def display_top_apps(genre):\n",
    "    top_10 = {}\n",
    "    count = 0\n",
    "    \n",
    "    for app in ios_final: \n",
    "        name = app[1]\n",
    "        ratings = int(app[5])\n",
    "        if count < 20 and app[-5] == genre:\n",
    "            top_10[ratings] = name\n",
    "            count += 1\n",
    "            \n",
    "    for k in top_10:\n",
    "        print('{0:10,}: {1}'.format(k,top_10[k]))\n",
    "    \n",
    "display_top_apps('Navigation')"
   ]
  },
  {
   "cell_type": "code",
   "execution_count": 25,
   "metadata": {},
   "outputs": [
    {
     "name": "stdout",
     "output_type": "stream",
     "text": [
      "   985,920: Bible\n",
      "   200,047: Dictionary.com Dictionary & Thesaurus\n",
      "    54,175: Dictionary.com Dictionary & Thesaurus for iPad\n",
      "    26,786: Google Translate\n",
      "    18,418: Muslim Pro: Ramadan 2017 Prayer Times, Azan, Quran\n",
      "    17,588: New Furniture Mods - Pocket Wiki & Game Tools for Minecraft PC Edition\n",
      "    16,849: Merriam-Webster Dictionary\n",
      "    12,122: Night Sky\n",
      "     8,535: City Maps for Minecraft PE - The Best Maps for Minecraft Pocket Edition (MCPE)\n",
      "     4,693: LUCKY BLOCK MOD ™ for Minecraft PC Edition - The Best Pocket Wiki & Mods Installer Tools\n",
      "     1,497: GUNS MODS for Minecraft PC Edition - Mods Tools\n",
      "       826: Guides for Pokémon GO - Pokemon GO News and Cheats\n",
      "       762: WWDC\n",
      "       718: Horror Maps for Minecraft PE - Download The Scariest Maps for Minecraft Pocket Edition (MCPE) Free\n",
      "        14: VPN Express\n",
      "         8: Real Bike Traffic Rider Virtual Reality Glasses\n",
      "         0: Jishokun-Japanese English Dictionary & Translator\n"
     ]
    }
   ],
   "source": [
    "display_top_apps('Reference')"
   ]
  },
  {
   "cell_type": "code",
   "execution_count": 26,
   "metadata": {},
   "outputs": [
    {
     "name": "stdout",
     "output_type": "stream",
     "text": [
      " 2,974,676: Facebook\n",
      " 1,061,624: Pinterest\n",
      "   373,519: Skype for iPhone\n",
      "   351,466: Messenger\n",
      "   334,293: Tumblr\n",
      "   287,589: WhatsApp Messenger\n",
      "   260,965: Kik\n",
      "   177,501: ooVoo – Free Video Call, Text and Voice\n",
      "   164,963: TextNow - Unlimited Text + Calls\n",
      "   164,249: Viber Messenger – Text & Call\n",
      "   112,778: Followers - Social Analytics For Instagram\n",
      "    97,072: MeetMe - Chat and Meet New People\n",
      "    90,414: We Heart It - Fashion, wallpapers, quotes, tattoos\n",
      "    85,535: InsTrack for Instagram - Analytics Plus More\n",
      "    75,412: Tango - Free Video Call, Voice and Chat\n",
      "    71,856: LinkedIn\n",
      "    60,659: Match™ - #1 Dating App.\n",
      "    60,163: Skype for iPad\n",
      "    52,642: POF - Best Dating App for Conversations\n",
      "    49,510: Timehop\n"
     ]
    }
   ],
   "source": [
    "display_top_apps('Social Networking')"
   ]
  },
  {
   "cell_type": "code",
   "execution_count": 27,
   "metadata": {},
   "outputs": [
    {
     "name": "stdout",
     "output_type": "stream",
     "text": [
      " 1,126,879: Pandora - Music & Radio\n",
      "   878,563: Spotify Music\n",
      "   402,925: Shazam - Discover music, artists, videos & lyrics\n",
      "   293,228: iHeartRadio – Free Music & Radio Stations\n",
      "   135,744: SoundCloud - Music & Audio\n",
      "   131,695: Magic Piano by Smule\n",
      "   119,316: Smule Sing!\n",
      "   110,420: TuneIn Radio - MLB NBA Audiobooks Podcasts Music\n",
      "   106,235: Amazon Music\n",
      "    82,602: SoundHound Song Search & Music Player\n",
      "    48,905: Sonos Controller\n",
      "    30,845: Bandsintown Concerts\n",
      "    28,606: Karaoke - Sing Karaoke, Unlimited Songs!\n",
      "    26,286: My Mixtapez Music\n",
      "    26,227: Sing Karaoke Songs Unlimited with StarMaker\n",
      "    25,403: Ringtones for iPhone & Ringtone Maker\n",
      "    25,193: Musi - Unlimited Music For YouTube\n",
      "    18,202: AutoRap by Smule\n",
      "    15,053: Spinrilla - Mixtapes For Free\n",
      "    14,268: Napster - Top Music & Radio\n"
     ]
    }
   ],
   "source": [
    "display_top_apps('Music')"
   ]
  },
  {
   "cell_type": "markdown",
   "metadata": {},
   "source": [
    "Although navigation apps have the highest average user reviews, it has been heavily influenced by almost half a million user reviews for Waze and Google Maps. The same pull applies to social networking apps, where average numbers are driven by Facebook, Pinterest, Skype, and other social media giants. This is also true for music apps, with Pandora, Spotify, and Shazam.\n",
    "\n",
    "Reference apps have 74,942 user ratings on average, but it's actually the Bible and Dictionary.com which skew up the average rating. However, this niche seems to show some potential.\n",
    "\n",
    "\n",
    "### *User Counts: Google Play*\n",
    "\n",
    "For the Google Play market, although there is data about the number of installs, the numbers don't seem precise enough. Most values are open-ended (100+, 1,000+, 5,000+, etc.):"
   ]
  },
  {
   "cell_type": "markdown",
   "metadata": {},
   "source": [
    "One thing we could do is take another popular book and turn it into an app where we could add different features besides the raw version of the book. This might include daily quotes from the book, an audio version of the book, quizzes about the book, etc. On top of that, we could also embed a dictionary within the app, so users don't need to exit our app to look up words in an external app.\n",
    "\n",
    "This idea seems to fit well with the fact that the App Store is dominated by for-fun apps. This suggests the market might be a bit saturated with for-fun apps, which means a practical app might have more of a chance to stand out among the huge number of apps on the App Store.\n",
    "\n",
    "Other genres that seem popular include weather, book, food and drink, or finance. The book genre seem to overlap a bit with the app idea we described above, but the other genres don't seem too interesting to us:\n",
    "\n",
    "- Weather apps — people generally don't spend too much time in-app, and the chances of making profit from in-app adds are low. Also, getting reliable live weather data may require us to connect our apps to non-free APIs.\n",
    "\n",
    "- Food and drink — examples here include Starbucks, Dunkin' Donuts, McDonald's, etc. So making a popular food and drink app requires actual cooking and a delivery service, which is outside the scope of our company.\n",
    "\n",
    "- Finance apps — these apps involve banking, paying bills, money transfer, etc. Building a finance app requires domain knowledge, and we don't want to hire a finance expert just to build an app.\n",
    "\n",
    "Now let's analyze the Google Play market a bit."
   ]
  },
  {
   "cell_type": "code",
   "execution_count": 28,
   "metadata": {},
   "outputs": [
    {
     "name": "stdout",
     "output_type": "stream",
     "text": [
      "15.73%: 1,000,000+\n",
      "11.55%: 100,000+\n",
      "10.55%: 10,000,000+\n",
      "10.20%: 10,000+\n",
      " 8.39%: 1,000+\n",
      " 6.92%: 100+\n",
      " 6.83%: 5,000,000+\n",
      " 5.56%: 500,000+\n",
      " 4.77%: 50,000+\n",
      " 4.51%: 5,000+\n",
      " 3.54%: 10+\n",
      " 3.25%: 500+\n",
      " 2.30%: 50,000,000+\n",
      " 2.13%: 100,000,000+\n",
      " 1.92%: 50+\n",
      " 0.79%: 5+\n",
      " 0.51%: 1+\n",
      " 0.27%: 500,000,000+\n",
      " 0.23%: 1,000,000,000+\n",
      " 0.05%: 0+\n",
      " 0.01%: 0\n"
     ]
    }
   ],
   "source": [
    "sort_table(android_final, 5)"
   ]
  },
  {
   "cell_type": "markdown",
   "metadata": {},
   "source": [
    "One problem with this data is precision, since the values are estimates. An app with 100,000+ installs may have 100,000, 200,000, or 350,000 installs. The only consolation is that a high level of precision is not necessary to determine which app genres attract the most users.\n",
    "\n",
    "To proceed, the minimum count per value will be assumed. An app with 100,000+ installs has 100,000 installs, and an app with 1,000,000+ installs has 1,000,000 installs, and so on."
   ]
  },
  {
   "cell_type": "code",
   "execution_count": 29,
   "metadata": {},
   "outputs": [
    {
     "name": "stdout",
     "output_type": "stream",
     "text": [
      "38,456,119: Communication\n",
      "24,727,872: Video Players\n",
      "23,253,652: Social\n",
      "17,840,110: Photography\n",
      "16,787,331: Productivity\n",
      "15,588,016: Game\n",
      "13,984,078: Travel & Local\n",
      "11,640,706: Entertainment\n",
      "10,801,391: Tools\n",
      " 9,549,178: News & Magazines\n",
      " 8,767,812: Books & Reference\n",
      " 7,036,877: Shopping\n",
      " 5,201,483: Personalization\n",
      " 5,074,486: Weather\n",
      " 4,188,822: Health & Fitness\n",
      " 4,056,942: Maps & Navigation\n",
      " 3,695,642: Family\n",
      " 3,638,640: Sports\n",
      " 1,986,335: Art & Design\n",
      " 1,924,898: Food & Drink\n",
      " 1,833,495: Education\n",
      " 1,712,290: Business\n",
      " 1,437,816: Lifestyle\n",
      " 1,387,692: Finance\n",
      " 1,331,541: House & Home\n",
      "   854,029: Dating\n",
      "   817,657: Comics\n",
      "   647,318: Auto & Vehicles\n",
      "   638,504: Libraries & Demo\n",
      "   542,604: Parenting\n",
      "   513,152: Beauty\n",
      "   253,542: Events\n",
      "   120,551: Medical\n"
     ]
    }
   ],
   "source": [
    "android_categories = freq_table(android_final, 1)\n",
    "android_cats = {}\n",
    "\n",
    "for category in android_categories:\n",
    "    total_installs = 0\n",
    "    len_category = 0\n",
    "    \n",
    "    for app in android_final:\n",
    "        app_category = app[1]\n",
    "        if app_category == category:            \n",
    "            installs = app[5]\n",
    "            installs = installs.replace(',', '')\n",
    "            installs = installs.replace('+', '')\n",
    "            total_installs += float(installs)\n",
    "            len_category += 1\n",
    "    \n",
    "    avg_installs = round(total_installs / len_category)\n",
    "    android_cats[avg_installs] = category\n",
    "\n",
    "android_sorted = sorted(android_cats, reverse=True)\n",
    "\n",
    "for i in android_sorted:\n",
    "    x = android_cats[i].replace('_', ' ')\n",
    "    x = x.replace(' AND ', ' & ').title()\n",
    "    print('{0:10,}: {1}'.format(i, x))"
   ]
  },
  {
   "cell_type": "markdown",
   "metadata": {},
   "source": [
    "On average, communication apps have the most installs: 38,456,119. This number is heavily skewed up by a few apps that have over one billion installs (WhatsApp, Facebook Messenger, Skype, Google Chrome, Gmail, and Hangouts), and a few others with over 100 and 500 million installs:"
   ]
  },
  {
   "cell_type": "code",
   "execution_count": 30,
   "metadata": {},
   "outputs": [
    {
     "name": "stdout",
     "output_type": "stream",
     "text": [
      "Apps with 1,000,000,000+ installs:\n",
      "-  WhatsApp Messenger\n",
      "-  Messenger – Text and Video Chat for Free\n",
      "-  Skype - free IM & video calls\n",
      "-  Google Chrome: Fast & Secure\n",
      "-  Gmail\n",
      "-  Hangouts\n",
      "Apps with 500,000,000+ installs:\n",
      "-  Google Duo - High Quality Video Calls\n",
      "-  imo free video calls and chat\n",
      "-  LINE: Free Calls & Messages\n",
      "-  UC Browser - Fast Download Private & Secure\n",
      "-  Viber Messenger\n",
      "Apps with 100,000,000+ installs:\n",
      "-  imo beta free calls and text\n",
      "-  Android Messages\n",
      "-  Who\n",
      "-  GO SMS Pro - Messenger, Free Themes, Emoji\n",
      "-  Firefox Browser fast & private\n",
      "-  Messenger Lite: Free Calls & Messages\n",
      "-  Kik\n",
      "-  KakaoTalk: Free Calls & Text\n",
      "-  Opera Mini - fast web browser\n",
      "-  Opera Browser: Fast and Secure\n",
      "-  Telegram\n",
      "-  Truecaller: Caller ID, SMS spam blocking & Dialer\n",
      "-  UC Browser Mini -Tiny Fast Private & Secure\n",
      "-  WeChat\n",
      "-  Yahoo Mail – Stay Organized\n",
      "-  BBM - Free Calls & Messages\n"
     ]
    }
   ],
   "source": [
    "huge_installs = ['1,000,000,000+', '500,000,000+', '100,000,000+']\n",
    "\n",
    "for count in huge_installs:\n",
    "    print('Apps with {0} installs:'.format(count))\n",
    "    for app in android_final:\n",
    "        app_name = app[0]\n",
    "        category = app[1]\n",
    "        installs = app[5]\n",
    "\n",
    "        if category == 'COMMUNICATION' and installs == count:\n",
    "            print('- ', app_name)"
   ]
  },
  {
   "cell_type": "code",
   "execution_count": 31,
   "metadata": {},
   "outputs": [
    {
     "name": "stdout",
     "output_type": "stream",
     "text": [
      " 3,603,485\n"
     ]
    }
   ],
   "source": [
    "def under_100m_avg(genre):\n",
    "\n",
    "    under_100_m = []\n",
    "    for app in android_final:\n",
    "        n_installs = app[5]\n",
    "        n_installs = n_installs.replace(',', '')\n",
    "        n_installs = n_installs.replace('+', '')\n",
    "        if (app[1] == genre) and (float(n_installs) < 100000000):\n",
    "            under_100_m.append(float(n_installs))\n",
    "\n",
    "    rounded = round(sum(under_100_m) / len(under_100_m))\n",
    "    print('{:10,}'.format(rounded))\n",
    "\n",
    "under_100m_avg('COMMUNICATION')"
   ]
  },
  {
   "cell_type": "code",
   "execution_count": 32,
   "metadata": {},
   "outputs": [
    {
     "name": "stdout",
     "output_type": "stream",
     "text": [
      " 5,544,878\n"
     ]
    }
   ],
   "source": [
    "under_100m_avg('VIDEO_PLAYERS')"
   ]
  },
  {
   "cell_type": "markdown",
   "metadata": {},
   "source": [
    "If communication apps with over 100 million installs were removed from the consideration, the average user base would be a tenth of its current count. The same reduction applies to video players, where the market is dominated by apps like Youtube, Google Play Movies & TV, or MX Player. This pattern is repeated for social apps (with Facebook, Instagram, Google+, etc.), photography apps (Google Photos), or productivity apps (Microsoft Word, Dropbox, Google Calendar, Evernote, etc.).\n",
    "\n",
    "Again, the main concern is that certain genres might appear more popular than they really are, due to the heavy pull of some giants. This also implies that these giants already have a monopoly of the market, and that competing with these apps might be tough. In the same vein, the games genre already seems saturated, so profitability may be difficult to accomplish.\n",
    "\n",
    "### App Profile: Book and Reference Apps\n",
    "\n",
    "The books and reference genre looks fairly popular, but doesn't seem to have significant competition. It's interesting to explore this in more depth.\n",
    "\n",
    "Below are some apps and their number of installs:"
   ]
  },
  {
   "cell_type": "code",
   "execution_count": 33,
   "metadata": {},
   "outputs": [
    {
     "name": "stdout",
     "output_type": "stream",
     "text": [
      "E-Book Read - Read Book for free : 50,000+\n",
      "Download free book with green book : 100,000+\n",
      "Wikipedia : 10,000,000+\n",
      "Cool Reader : 10,000,000+\n",
      "Free Panda Radio Music : 100,000+\n",
      "Book store : 1,000,000+\n",
      "FBReader: Favorite Book Reader : 10,000,000+\n",
      "English Grammar Complete Handbook : 500,000+\n",
      "Free Books - Spirit Fanfiction and Stories : 1,000,000+\n",
      "Google Play Books : 1,000,000,000+\n",
      "AlReader -any text book reader : 5,000,000+\n",
      "Offline English Dictionary : 100,000+\n",
      "Offline: English to Tagalog Dictionary : 500,000+\n",
      "FamilySearch Tree : 1,000,000+\n",
      "Cloud of Books : 1,000,000+\n",
      "Recipes of Prophetic Medicine for free : 500,000+\n",
      "ReadEra – free ebook reader : 1,000,000+\n",
      "Anonymous caller detection : 10,000+\n",
      "Ebook Reader : 5,000,000+\n",
      "Litnet - E-books : 100,000+\n"
     ]
    }
   ],
   "source": [
    "tally_app_count = 0\n",
    "\n",
    "for app in android_final:\n",
    "    if app[1] == 'BOOKS_AND_REFERENCE' and tally_app_count < 20 :\n",
    "        tally_app_count += 1\n",
    "        print(app[0], ':', app[5])"
   ]
  },
  {
   "cell_type": "code",
   "execution_count": 34,
   "metadata": {},
   "outputs": [
    {
     "name": "stdout",
     "output_type": "stream",
     "text": [
      "Google Play Books : 1,000,000,000+\n",
      "Bible : 100,000,000+\n",
      "Amazon Kindle : 100,000,000+\n",
      "Wattpad 📖 Free Books : 100,000,000+\n",
      "Audiobooks from Audible : 100,000,000+\n"
     ]
    }
   ],
   "source": [
    "for app in android_final:\n",
    "    if app[1] == 'BOOKS_AND_REFERENCE' and (app[5] == '1,000,000,000+'\n",
    "                                         or app[5] == '500,000,000+'\n",
    "                                         or app[5] == '100,000,000+'):\n",
    "        print(app[0], ':', app[5])"
   ]
  },
  {
   "cell_type": "code",
   "execution_count": 35,
   "metadata": {},
   "outputs": [
    {
     "name": "stdout",
     "output_type": "stream",
     "text": [
      "Wikipedia : 10,000,000+\n",
      "Cool Reader : 10,000,000+\n",
      "Book store : 1,000,000+\n",
      "FBReader: Favorite Book Reader : 10,000,000+\n",
      "Free Books - Spirit Fanfiction and Stories : 1,000,000+\n",
      "AlReader -any text book reader : 5,000,000+\n",
      "FamilySearch Tree : 1,000,000+\n",
      "Cloud of Books : 1,000,000+\n",
      "ReadEra – free ebook reader : 1,000,000+\n",
      "Ebook Reader : 5,000,000+\n",
      "Read books online : 5,000,000+\n",
      "eBoox: book reader fb2 epub zip : 1,000,000+\n",
      "All Maths Formulas : 1,000,000+\n",
      "Ancestry : 5,000,000+\n",
      "HTC Help : 10,000,000+\n",
      "Moon+ Reader : 10,000,000+\n",
      "English-Myanmar Dictionary : 1,000,000+\n",
      "Golden Dictionary (EN-AR) : 1,000,000+\n",
      "All Language Translator Free : 1,000,000+\n",
      "Aldiko Book Reader : 10,000,000+\n",
      "Dictionary - WordWeb : 5,000,000+\n",
      "50000 Free eBooks & Free AudioBooks : 5,000,000+\n",
      "Al-Quran (Free) : 10,000,000+\n",
      "Al Quran Indonesia : 10,000,000+\n",
      "Al'Quran Bahasa Indonesia : 10,000,000+\n",
      "Al Quran Al karim : 1,000,000+\n",
      "Al Quran : EAlim - Translations & MP3 Offline : 5,000,000+\n",
      "Koran Read &MP3 30 Juz Offline : 1,000,000+\n",
      "Hafizi Quran 15 lines per page : 1,000,000+\n",
      "Quran for Android : 10,000,000+\n",
      "Satellite AR : 1,000,000+\n",
      "Oxford A-Z of English Usage : 1,000,000+\n",
      "Dictionary.com: Find Definitions for English Words : 10,000,000+\n",
      "English Dictionary - Offline : 10,000,000+\n",
      "Bible KJV : 5,000,000+\n",
      "NOOK: Read eBooks & Magazines : 10,000,000+\n",
      "Brilliant Quotes: Life, Love, Family & Motivation : 1,000,000+\n",
      "Stats Royale for Clash Royale : 1,000,000+\n",
      "Dictionary : 10,000,000+\n",
      "wikiHow: how to do anything : 1,000,000+\n",
      "EGW Writings : 1,000,000+\n",
      "My Little Pony AR Guide : 1,000,000+\n",
      "Spanish English Translator : 10,000,000+\n",
      "Dictionary - Merriam-Webster : 10,000,000+\n",
      "JW Library : 10,000,000+\n",
      "Oxford Dictionary of English : Free : 10,000,000+\n",
      "English Hindi Dictionary : 10,000,000+\n",
      "English to Hindi Dictionary : 5,000,000+\n"
     ]
    }
   ],
   "source": [
    "for app in android_final:\n",
    "    if app[1] == 'BOOKS_AND_REFERENCE' and (app[5] == '1,000,000+'\n",
    "                                         or app[5] == '5,000,000+'\n",
    "                                         or app[5] == '10,000,000+'\n",
    "                                         or app[5] == '50,000,000+'):\n",
    "        print(app[0], ':', app[5])"
   ]
  },
  {
   "cell_type": "markdown",
   "metadata": {},
   "source": [
    "## Conclusion\n",
    "\n",
    "Apps for eBooks, libraries, and dictionaries dominate the 'Book and Reference' genre, so avoiding these top types is logical. Looking at the second tier of popular apps, the few apps build around Quran — even the app build around the Bible — suggests that building an app around a popular book can be profitable. \n",
    "\n",
    "It seems that taking a popular book (perhaps a more recent book) and turning it into an app could be profitable for both the Google Play and the App Store markets. To distinguish the app from competition, it may be necessary to add special features, such as: daily quotes from the book, an audiobook companion, quizzes or interactive lessons, a in-app forum, etc."
   ]
  }
 ],
 "metadata": {
  "kernelspec": {
   "display_name": "Python 3",
   "language": "python",
   "name": "python3"
  },
  "language_info": {
   "codemirror_mode": {
    "name": "ipython",
    "version": 3
   },
   "file_extension": ".py",
   "mimetype": "text/x-python",
   "name": "python",
   "nbconvert_exporter": "python",
   "pygments_lexer": "ipython3",
   "version": "3.7.4"
  }
 },
 "nbformat": 4,
 "nbformat_minor": 2
}
