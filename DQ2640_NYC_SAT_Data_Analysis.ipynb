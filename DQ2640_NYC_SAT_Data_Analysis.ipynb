{
 "cells": [
  {
   "cell_type": "markdown",
   "metadata": {},
   "source": [
    "# New York City: SAT Results, 2016\n",
    "\n",
    "<br></br>\n",
    "<i>The Scholastic Aptitude Test (SAT) is an exam U.S. high school students take before applying to college. The SAT consists of three sections, each with 800 possible points, making 2,400 the highest possible combined score. Colleges factor SAT scores when deciding who to admit. Organizations often rank high schools by their average SAT scores. High average SAT scores are usually indicative of a good school. The scores are also considered a measure of overall school district quality.\n",
    "    \n",
    "SAT's fairness to marginalized groups is a controversial issue in US education. Investigating correlations between SAT scores and key demographic factors requires a dive into big societal issues concerning race, gender, and wealth gap (to name a few).</i>\n",
    "\n",
    "## 1. Dataset\n",
    "\n",
    "New York City makes its [data on high school SAT scores](https://data.cityofnewyork.us/Education/2012-SAT-Results/f9bf-2cp4) available online, as well as the demographics for each high school. Here are the datasets used in this notebook:\n",
    "\n",
    "| Source | File(s) | Description |\n",
    "| :--- | :--- | :--- |\n",
    "| [Scores by School](https://data.cityofnewyork.us/Education/SAT-Results/f9bf-2cp4) | sat_results.csv | SAT scores for each high school in New York City\n",
    "| [School Attendance](https://data.cityofnewyork.us/Education/School-Attendance-and-Enrollment-Statistics-by-Dis/7z8d-msnt) | (no file) | Attendance information for each school in New York City\n",
    "| [Class Size](https://data.cityofnewyork.us/Education/2010-2011-Class-Size-School-level-detail/urz7-pzb3) | class_size.csv | Information on class size for each school\n",
    "| [AP Test Result](https://data.cityofnewyork.us/Education/AP-College-Board-2010-School-Level-Results/itfs-ms3e) | ap_2010.csv | **Advanced Placement (AP)** exam results for each high school; passing an optional AP exam in a particular subject can earn a student college credit in that subject\n",
    "| [Graduation Outcomes](https://data.cityofnewyork.us/Education/Graduation-Outcomes-Classes-Of-2005-2010-School-Le/vh2h-md7a) | graduation.csv | The percentage of students who graduated, and other outcome information\n",
    "| [Demographics and Directory](https://data.cityofnewyork.us/Education/School-Demographics-and-Accountability-Snapshot-20/ihfw-zy9j) | demographics.csv, hs_directory.csv | Demographic information for each school; a directory of high schools\n",
    "| [School Survey](https://data.cityofnewyork.us/Education/NYC-School-Survey-2011/mnz3-dyi8) | survey_all.txt, survey_d75.txt | Surveys of parents, teachers, and students at each school\n",
    "\n",
    "Some notes prior to reading the datasets:\n",
    "\n",
    "- Although the total SAT score has changed a few times, score datasets for this project is based on a 2,400 total. \n",
    "- Each school in New York City has a unique code called a district borough number, or DBN.\n",
    "- New York City schools fall within several different school districts. Aggregating data by district allows mapping data to plot district-by-district differences.\n",
    "- Since only high school students take the SAT, certain data sets need to be cleaned to only include high schools.\n",
    "- New York City has a significant immigrant population, which makes it one of the most diverse in the country. Because of this, there is usually enough data to compare or correlate demographic factors such as race, income, and gender with SAT scores. The NYC SAT scores may provide enough data to unearth biases in SAT.\n",
    "\n",
    "## 2. Preparing the Data\n",
    "\n",
    "To arrive at the final `combined` dataframe in the [data analysis notebook](http://localhost:8888/notebooks/Projects/Data/Dataquest/dq-notebooks/exercises/DQ2630_NYC_SAT_Data_Cleaning.ipynb), most of the code needs to be replicated. This includes the code under the following sections:\n",
    "\n",
    "- Reading the Data \n",
    "- Cleaning the Data\n",
    "- Combining the Data\n",
    "\n",
    "### 2.1 Reading the Data\n",
    "\n",
    "The datasets that make up the final dataframe are either stored as .csv or .json file. The .csv files are handled first, then the JSON files. All CSV files are saved as pandas dataframes, and stored in a dictionary, `d`. The two JSON files are combined into one dataframe called `survey`."
   ]
  },
  {
   "cell_type": "code",
   "execution_count": 1,
   "metadata": {},
   "outputs": [],
   "source": [
    "import pandas as pd\n",
    "import numpy as np\n",
    "import matplotlib.pyplot as plt\n",
    "import re\n",
    "\n",
    "d = {}\n",
    "data_files = ['ap_2010.csv'\n",
    "    , 'class_size.csv'\n",
    "    , 'demographics.csv'\n",
    "    , 'graduation.csv'\n",
    "    , 'hs_directory.csv'\n",
    "    , 'sat_results.csv'\n",
    "]\n",
    "\n",
    "# read csv files\n",
    "for f in data_files:\n",
    "    file = pd.read_csv('datasets/schools/{}'.format(f))\n",
    "    d[f.replace('.csv', '')] = file\n",
    "    \n",
    "# read survey files\n",
    "all_survey = pd.read_csv('datasets/schools/survey_all.txt', delimiter='\\t', encoding='windows-1252')\n",
    "d75_survey = pd.read_csv('datasets/schools/survey_d75.txt', delimiter='\\t', encoding='windows-1252')\n",
    "survey = pd.concat([all_survey, d75_survey], axis=0, sort=False)"
   ]
  },
  {
   "cell_type": "markdown",
   "metadata": {},
   "source": [
    "### 2.2 Cleaning the Data\n",
    "\n",
    "The data cleaning involves creating `DBN` columns for the dataframes that has a lowercase `dbn` column (like in the case of `survey` and `hs_directory`), or doesn't have a `DBN` column, but has columns that can be used to create one (like in the case of `class_size`). In addition, a total `sat_score` is created in `sat_results` for high-level analysis. Latitude and longtitude pairs are also created in `hs_directory` to allow for geographic clustering, particularly in a district-level.\n",
    "\n",
    "Most of the datasets also have columns that are adding to the bulk, but provide little value for analysis. For instance, after consolidation, `survey` has over 2,000 columns, most of which need to be dropped. Finally, some columns need to be converted to numeric format, such as `AP Test Takers`, `Total Exams Taken`, and `Number of Exams with scores 3 4 or 5` in `ap_2010`."
   ]
  },
  {
   "cell_type": "code",
   "execution_count": 2,
   "metadata": {},
   "outputs": [],
   "source": [
    "# filter survey columns\n",
    "survey['DBN'] = survey['dbn']\n",
    "survey_fields = ['DBN', 'rr_s', 'rr_t', 'rr_p', 'N_s', 'N_t', 'N_p', \n",
    "                 'saf_p_11', 'com_p_11', 'eng_p_11', 'aca_p_11', \n",
    "                 'saf_t_11', 'com_t_11', 'eng_t_11', 'aca_t_11', \n",
    "                 'saf_s_11', 'com_s_11', 'eng_s_11', 'aca_s_11', \n",
    "                 'saf_tot_11', 'com_tot_11', 'eng_tot_11', 'aca_tot_11']\n",
    "survey = survey[survey_fields]\n",
    "d['survey'] = survey\n",
    "\n",
    "# insert DBN fields\n",
    "d['hs_directory']['DBN'] = d['hs_directory']['dbn']\n",
    "\n",
    "def fill_num(n):\n",
    "    if len(str(n)) == 2:\n",
    "        return str(n)\n",
    "    else:\n",
    "        return str(n).zfill(2)\n",
    "    \n",
    "d['class_size']['padded_csd'] = d['class_size']['CSD'].apply(fill_num)\n",
    "d['class_size']['DBN'] = d['class_size']['padded_csd'] + d['class_size']['SCHOOL CODE']\n",
    "\n",
    "# combine SAT scores\n",
    "sats = ['SAT Math Avg. Score', 'SAT Critical Reading Avg. Score', 'SAT Writing Avg. Score']\n",
    "for s in sats:\n",
    "    d['sat_results'][s] = pd.to_numeric(d['sat_results'][s], errors='coerce')\n",
    "d['sat_results']['sat_score'] = d['sat_results'][sats[0]] + d['sat_results'][sats[1]] + d['sat_results'][sats[2]]\n",
    "\n",
    "# parse geographic coordinates\n",
    "def find_lat(loc):\n",
    "    c = re.findall('\\(.+, .+\\)', loc)\n",
    "    lat = c[0].split(',')[0].replace('(','')\n",
    "    return lat\n",
    "\n",
    "def find_lon(loc):\n",
    "    c = re.findall('\\(.+, .+\\)', loc)\n",
    "    lon = c[0].split(',')[1].replace(')','').strip()\n",
    "    return lon\n",
    "\n",
    "d['hs_directory']['lat'] = d['hs_directory']['Location 1'].apply(find_lat)\n",
    "d['hs_directory']['lon'] = d['hs_directory']['Location 1'].apply(find_lon)\n",
    "d['hs_directory']['lat'] = pd.to_numeric(d['hs_directory']['lat'], errors='coerce')\n",
    "d['hs_directory']['lon'] = pd.to_numeric(d['hs_directory']['lon'], errors='coerce')\n",
    "\n",
    "# condense class_size, demographics, and graduation\n",
    "class_size = d['class_size']\n",
    "class_size = class_size[(class_size['GRADE '] == '09-12') & (class_size['PROGRAM TYPE'] == 'GEN ED')]\n",
    "class_size = class_size.groupby('DBN').agg(np.mean)\n",
    "class_size.reset_index(inplace=True)\n",
    "\n",
    "d['class_size'] = class_size\n",
    "d['demographics'] = d['demographics'][d['demographics']['schoolyear'] == 20112012]\n",
    "d['graduation'] = d['graduation'][d['graduation']['Cohort'] == '2006']\n",
    "d['graduation'] = d['graduation'][d['graduation']['Demographic'] == 'Total Cohort']\n",
    "\n",
    "# convert AP Scores\n",
    "cols = ['AP Test Takers ', 'Total Exams Taken', 'Number of Exams with scores 3 4 or 5']\n",
    "for c in cols:\n",
    "    d['ap_2010'][c] = pd.to_numeric(d['ap_2010'][c], errors='coerce')"
   ]
  },
  {
   "cell_type": "markdown",
   "metadata": {},
   "source": [
    "### 2.3 Combining the Data\n",
    "\n",
    "The last step in preparing the data is merging all the datasets. For this step, a bunch of left and inner joins need to be completed to preserve as much data as possible. For imperfect matches, these joins lead to rows with missing data, which have been imputed with either the mean or 0."
   ]
  },
  {
   "cell_type": "code",
   "execution_count": 3,
   "metadata": {},
   "outputs": [
    {
     "data": {
      "text/html": [
       "<div>\n",
       "<style scoped>\n",
       "    .dataframe tbody tr th:only-of-type {\n",
       "        vertical-align: middle;\n",
       "    }\n",
       "\n",
       "    .dataframe tbody tr th {\n",
       "        vertical-align: top;\n",
       "    }\n",
       "\n",
       "    .dataframe thead th {\n",
       "        text-align: right;\n",
       "    }\n",
       "</style>\n",
       "<table border=\"1\" class=\"dataframe\">\n",
       "  <thead>\n",
       "    <tr style=\"text-align: right;\">\n",
       "      <th></th>\n",
       "      <th>DBN</th>\n",
       "      <th>SCHOOL NAME</th>\n",
       "      <th>Num of SAT Test Takers</th>\n",
       "      <th>SAT Critical Reading Avg. Score</th>\n",
       "      <th>SAT Math Avg. Score</th>\n",
       "      <th>SAT Writing Avg. Score</th>\n",
       "      <th>sat_score</th>\n",
       "      <th>SchoolName</th>\n",
       "      <th>AP Test Takers</th>\n",
       "      <th>Total Exams Taken</th>\n",
       "      <th>...</th>\n",
       "      <th>priority05</th>\n",
       "      <th>priority06</th>\n",
       "      <th>priority07</th>\n",
       "      <th>priority08</th>\n",
       "      <th>priority09</th>\n",
       "      <th>priority10</th>\n",
       "      <th>Location 1</th>\n",
       "      <th>lat</th>\n",
       "      <th>lon</th>\n",
       "      <th>school_dist</th>\n",
       "    </tr>\n",
       "  </thead>\n",
       "  <tbody>\n",
       "    <tr>\n",
       "      <td>0</td>\n",
       "      <td>01M292</td>\n",
       "      <td>HENRY STREET SCHOOL FOR INTERNATIONAL STUDIES</td>\n",
       "      <td>29</td>\n",
       "      <td>355.0</td>\n",
       "      <td>404.0</td>\n",
       "      <td>363.0</td>\n",
       "      <td>1122.0</td>\n",
       "      <td>0</td>\n",
       "      <td>129.028846</td>\n",
       "      <td>197.038462</td>\n",
       "      <td>...</td>\n",
       "      <td>Then to New York City residents</td>\n",
       "      <td>0</td>\n",
       "      <td>0</td>\n",
       "      <td>0</td>\n",
       "      <td>0</td>\n",
       "      <td>0</td>\n",
       "      <td>220 Henry Street\\nNew York, NY 10002\\n(40.7137...</td>\n",
       "      <td>40.713764</td>\n",
       "      <td>-73.985260</td>\n",
       "      <td>01</td>\n",
       "    </tr>\n",
       "    <tr>\n",
       "      <td>1</td>\n",
       "      <td>01M448</td>\n",
       "      <td>UNIVERSITY NEIGHBORHOOD HIGH SCHOOL</td>\n",
       "      <td>91</td>\n",
       "      <td>383.0</td>\n",
       "      <td>423.0</td>\n",
       "      <td>366.0</td>\n",
       "      <td>1172.0</td>\n",
       "      <td>UNIVERSITY NEIGHBORHOOD H.S.</td>\n",
       "      <td>39.000000</td>\n",
       "      <td>49.000000</td>\n",
       "      <td>...</td>\n",
       "      <td>0</td>\n",
       "      <td>0</td>\n",
       "      <td>0</td>\n",
       "      <td>0</td>\n",
       "      <td>0</td>\n",
       "      <td>0</td>\n",
       "      <td>200 Monroe Street\\nNew York, NY 10002\\n(40.712...</td>\n",
       "      <td>40.712332</td>\n",
       "      <td>-73.984797</td>\n",
       "      <td>01</td>\n",
       "    </tr>\n",
       "    <tr>\n",
       "      <td>2</td>\n",
       "      <td>01M450</td>\n",
       "      <td>EAST SIDE COMMUNITY SCHOOL</td>\n",
       "      <td>70</td>\n",
       "      <td>377.0</td>\n",
       "      <td>402.0</td>\n",
       "      <td>370.0</td>\n",
       "      <td>1149.0</td>\n",
       "      <td>EAST SIDE COMMUNITY HS</td>\n",
       "      <td>19.000000</td>\n",
       "      <td>21.000000</td>\n",
       "      <td>...</td>\n",
       "      <td>0</td>\n",
       "      <td>0</td>\n",
       "      <td>0</td>\n",
       "      <td>0</td>\n",
       "      <td>0</td>\n",
       "      <td>0</td>\n",
       "      <td>420 East 12 Street\\nNew York, NY 10009\\n(40.72...</td>\n",
       "      <td>40.729783</td>\n",
       "      <td>-73.983041</td>\n",
       "      <td>01</td>\n",
       "    </tr>\n",
       "    <tr>\n",
       "      <td>3</td>\n",
       "      <td>01M509</td>\n",
       "      <td>MARTA VALLE HIGH SCHOOL</td>\n",
       "      <td>44</td>\n",
       "      <td>390.0</td>\n",
       "      <td>433.0</td>\n",
       "      <td>384.0</td>\n",
       "      <td>1207.0</td>\n",
       "      <td>0</td>\n",
       "      <td>129.028846</td>\n",
       "      <td>197.038462</td>\n",
       "      <td>...</td>\n",
       "      <td>0</td>\n",
       "      <td>0</td>\n",
       "      <td>0</td>\n",
       "      <td>0</td>\n",
       "      <td>0</td>\n",
       "      <td>0</td>\n",
       "      <td>145 Stanton Street\\nNew York, NY 10002\\n(40.72...</td>\n",
       "      <td>40.720569</td>\n",
       "      <td>-73.985673</td>\n",
       "      <td>01</td>\n",
       "    </tr>\n",
       "    <tr>\n",
       "      <td>4</td>\n",
       "      <td>01M539</td>\n",
       "      <td>NEW EXPLORATIONS INTO SCIENCE, TECHNOLOGY AND ...</td>\n",
       "      <td>159</td>\n",
       "      <td>522.0</td>\n",
       "      <td>574.0</td>\n",
       "      <td>525.0</td>\n",
       "      <td>1621.0</td>\n",
       "      <td>NEW EXPLORATIONS SCI,TECH,MATH</td>\n",
       "      <td>255.000000</td>\n",
       "      <td>377.000000</td>\n",
       "      <td>...</td>\n",
       "      <td>0</td>\n",
       "      <td>0</td>\n",
       "      <td>0</td>\n",
       "      <td>0</td>\n",
       "      <td>0</td>\n",
       "      <td>0</td>\n",
       "      <td>111 Columbia Street\\nNew York, NY 10002\\n(40.7...</td>\n",
       "      <td>40.718725</td>\n",
       "      <td>-73.979426</td>\n",
       "      <td>01</td>\n",
       "    </tr>\n",
       "  </tbody>\n",
       "</table>\n",
       "<p>5 rows × 160 columns</p>\n",
       "</div>"
      ],
      "text/plain": [
       "      DBN                                        SCHOOL NAME  \\\n",
       "0  01M292      HENRY STREET SCHOOL FOR INTERNATIONAL STUDIES   \n",
       "1  01M448                UNIVERSITY NEIGHBORHOOD HIGH SCHOOL   \n",
       "2  01M450                         EAST SIDE COMMUNITY SCHOOL   \n",
       "3  01M509                            MARTA VALLE HIGH SCHOOL   \n",
       "4  01M539  NEW EXPLORATIONS INTO SCIENCE, TECHNOLOGY AND ...   \n",
       "\n",
       "  Num of SAT Test Takers  SAT Critical Reading Avg. Score  \\\n",
       "0                     29                            355.0   \n",
       "1                     91                            383.0   \n",
       "2                     70                            377.0   \n",
       "3                     44                            390.0   \n",
       "4                    159                            522.0   \n",
       "\n",
       "   SAT Math Avg. Score  SAT Writing Avg. Score  sat_score  \\\n",
       "0                404.0                   363.0     1122.0   \n",
       "1                423.0                   366.0     1172.0   \n",
       "2                402.0                   370.0     1149.0   \n",
       "3                433.0                   384.0     1207.0   \n",
       "4                574.0                   525.0     1621.0   \n",
       "\n",
       "                       SchoolName  AP Test Takers   Total Exams Taken  ...  \\\n",
       "0                               0       129.028846         197.038462  ...   \n",
       "1    UNIVERSITY NEIGHBORHOOD H.S.        39.000000          49.000000  ...   \n",
       "2          EAST SIDE COMMUNITY HS        19.000000          21.000000  ...   \n",
       "3                               0       129.028846         197.038462  ...   \n",
       "4  NEW EXPLORATIONS SCI,TECH,MATH       255.000000         377.000000  ...   \n",
       "\n",
       "                        priority05 priority06 priority07 priority08  \\\n",
       "0  Then to New York City residents          0          0          0   \n",
       "1                                0          0          0          0   \n",
       "2                                0          0          0          0   \n",
       "3                                0          0          0          0   \n",
       "4                                0          0          0          0   \n",
       "\n",
       "   priority09 priority10                                         Location 1  \\\n",
       "0           0          0  220 Henry Street\\nNew York, NY 10002\\n(40.7137...   \n",
       "1           0          0  200 Monroe Street\\nNew York, NY 10002\\n(40.712...   \n",
       "2           0          0  420 East 12 Street\\nNew York, NY 10009\\n(40.72...   \n",
       "3           0          0  145 Stanton Street\\nNew York, NY 10002\\n(40.72...   \n",
       "4           0          0  111 Columbia Street\\nNew York, NY 10002\\n(40.7...   \n",
       "\n",
       "         lat        lon school_dist  \n",
       "0  40.713764 -73.985260          01  \n",
       "1  40.712332 -73.984797          01  \n",
       "2  40.729783 -73.983041          01  \n",
       "3  40.720569 -73.985673          01  \n",
       "4  40.718725 -73.979426          01  \n",
       "\n",
       "[5 rows x 160 columns]"
      ]
     },
     "execution_count": 3,
     "metadata": {},
     "output_type": "execute_result"
    }
   ],
   "source": [
    "# perform left and inner joins\n",
    "combined = d['sat_results']\n",
    "combined = combined.merge(d['ap_2010'], on='DBN', how='left')\n",
    "combined = combined.merge(d['graduation'], on='DBN', how='left')\n",
    "to_merge = ['class_size', 'demographics', 'survey', 'hs_directory']\n",
    "for m in to_merge:\n",
    "    combined = combined.merge(d[m], on='DBN', how='inner')\n",
    "combined = combined.fillna(combined.mean())\n",
    "combined = combined.fillna(0)\n",
    "\n",
    "# add a school district column for mapping\n",
    "def extract_distric(n):\n",
    "    return n[:2]\n",
    "\n",
    "combined['school_dist'] = combined['DBN'].apply(extract_distric)\n",
    "combined.head()"
   ]
  },
  {
   "cell_type": "markdown",
   "metadata": {},
   "source": [
    "## 3. Analyzing and Visualizing the Data\n",
    "\n",
    "Now that `combined` has been generated, it can be used to derive a `correlations` dataframe, which can surface relationships between demographic factors. "
   ]
  },
  {
   "cell_type": "code",
   "execution_count": 4,
   "metadata": {},
   "outputs": [],
   "source": [
    "# remove DBN since it's not a useful numerical value for correlation\n",
    "survey_fields.remove('DBN')"
   ]
  },
  {
   "cell_type": "code",
   "execution_count": 5,
   "metadata": {},
   "outputs": [
    {
     "data": {
      "text/plain": [
       "sat_score                               1.00\n",
       "SAT Critical Reading Avg. Score         0.99\n",
       "SAT Writing Avg. Score                  0.99\n",
       "SAT Math Avg. Score                     0.97\n",
       "white_per                               0.62\n",
       "asian_per                               0.57\n",
       "AP Test Takers                          0.52\n",
       "Total Exams Taken                       0.51\n",
       "asian_num                               0.48\n",
       "Number of Exams with scores 3 4 or 5    0.46\n",
       "white_num                               0.45\n",
       "N_s                                     0.42\n",
       "N_p                                     0.42\n",
       "total_students                          0.41\n",
       "female_num                              0.39\n",
       "NUMBER OF STUDENTS / SEATS FILLED       0.39\n",
       "AVERAGE CLASS SIZE                      0.38\n",
       "total_enrollment                        0.37\n",
       "NUMBER OF SECTIONS                      0.36\n",
       "saf_s_11                                0.34\n",
       "aca_s_11                                0.34\n",
       "male_num                                0.33\n",
       "Total Cohort                            0.33\n",
       "saf_tot_11                              0.32\n",
       "saf_t_11                                0.31\n",
       "SIZE OF LARGEST CLASS                   0.31\n",
       "N_t                                     0.29\n",
       "SIZE OF SMALLEST CLASS                  0.25\n",
       "rr_s                                    0.23\n",
       "eng_s_11                                0.21\n",
       "com_s_11                                0.19\n",
       "aca_tot_11                              0.19\n",
       "aca_t_11                                0.13\n",
       "saf_p_11                                0.12\n",
       "Name: sat_score, dtype: float64"
      ]
     },
     "execution_count": 5,
     "metadata": {},
     "output_type": "execute_result"
    }
   ],
   "source": [
    "# create dataframe for SAT score correlations\n",
    "com_corr = combined.corr()\n",
    "sat_corr = com_corr['sat_score'].round(2)\n",
    "sat_corr.sort_values(ascending=False)[:34]"
   ]
  },
  {
   "cell_type": "code",
   "execution_count": 6,
   "metadata": {},
   "outputs": [
    {
     "data": {
      "text/plain": [
       "number_programs                   0.12\n",
       "female_per                        0.11\n",
       "eng_tot_11                        0.10\n",
       "com_t_11                          0.08\n",
       "com_tot_11                        0.08\n",
       "rr_p                              0.05\n",
       "CSD                               0.04\n",
       "aca_p_11                          0.04\n",
       "eng_t_11                          0.04\n",
       "hispanic_num                      0.03\n",
       "sped_num                          0.03\n",
       "black_num                         0.03\n",
       "eng_p_11                          0.02\n",
       "rr_t                             -0.02\n",
       "zip                              -0.06\n",
       "male_per                         -0.11\n",
       "lat                              -0.12\n",
       "com_p_11                         -0.12\n",
       "lon                              -0.13\n",
       "ell_num                          -0.15\n",
       "black_per                        -0.28\n",
       "ell_percent                      -0.40\n",
       "hispanic_per                     -0.40\n",
       "sped_percent                     -0.45\n",
       "frl_percent                      -0.72\n",
       "SCHOOLWIDE PUPIL-TEACHER RATIO     NaN\n",
       "schoolyear                         NaN\n",
       "fl_percent                         NaN\n",
       "grade_span_max                     NaN\n",
       "expgrade_span_max                  NaN\n",
       "priority08                         NaN\n",
       "priority09                         NaN\n",
       "priority10                         NaN\n",
       "Name: sat_score, dtype: float64"
      ]
     },
     "execution_count": 6,
     "metadata": {},
     "output_type": "execute_result"
    }
   ],
   "source": [
    "sat_corr.sort_values(ascending=False)[34:]"
   ]
  },
  {
   "cell_type": "markdown",
   "metadata": {},
   "source": [
    "These are some key takeaways from these `sat_score` correlations:\n",
    "\n",
    "- **Enrollment**. (`total_enrollment`) has a strong positive correlation with `sat_score`, which indicates that larger schools tend to do better on the SAT. This is somewhat surprising because smaller schools — where students generally receive more individualized assistance — logically should have higher scores. Other proxies for enrollment correlate similarly. These include `total_students`, `N_s`, `N_p`, `N_t`, `AP Test Takers`, `Total Exams Taken`, and `NUMBER OF SECTIONS`.\n",
    "- **Section Scores**. Unsurprisingly, `SAT Critical Reading Avg. Score`, `SAT Math Avg. Score`, and `SAT Writing Avg. Score` are very strongly correlated.\n",
    "- **Race**. Strong racial correlations can be seen in the set above. For instance, white (`white_per`) and Asian (`asian_per`) populations correlate positively. On the other hand, although not as strongly, black (`black_per`) and latino (`hispanic_per`) populations correlate negatively.\n",
    "- **Gender**. Both the percentage of females (`female_per`) and number of females (`female_num`) at a school correlate positively with SAT score, whereas the percentage of males (`male_per`) and the number of males (`male_num`) correlate negatively. This could indicate that women do better on the SAT than men.\n",
    "- **Safety**. Teacher and student ratings of school safety (`saf_t_11`, and `saf_s_11`) correlate with `sat_score`, but the parents' (`saf_p_11`) ratings do not correlate as well.\n",
    "- **Ratings**. Student ratings of school academic standards (`aca_s_11`) correlate with `sat_score`, but this does not hold for ratings from teachers and parents (`aca_p_11` and `aca_t_11`).\n",
    "- **ELL and FRL**. The percentage of English language learners (`ell_percent`) and the free and reduced lunch group (`frl_percent`) have strong negative correlations with SAT scores.\n",
    "\n",
    "### 3.1. Safety and SAT Scores\n",
    "\n",
    "The columns `saf_t_11` and `saf_s_11`, which measure perceived safety at school by teachers and students respectively, both correlate highly with `sat_score`. The plots below visualize these correlations."
   ]
  },
  {
   "cell_type": "code",
   "execution_count": 7,
   "metadata": {
    "scrolled": true
   },
   "outputs": [],
   "source": [
    "# set SAT defaults\n",
    "sat = 'sat_score'\n",
    "sat_label = 'SAT Score'\n",
    "sat_ticks = np.arange(800, 2400, 200)\n",
    "\n",
    "# set Student Safety defaults\n",
    "saf_s = 'saf_s_11'\n",
    "saf_s_label = 'Student Safety Score'\n",
    "saf_s_ticks = np.arange(4.5, 9.5, 0.5)\n",
    "\n",
    "# set Teacher Safety defaults\n",
    "saf_t = 'saf_t_11'\n",
    "saf_t_label = 'Teacher Safety Score'\n",
    "saf_t_ticks = np.arange(4.5, 9.5, 0.5)\n",
    "\n",
    "# plot defaults\n",
    "figsize = (16, 5)\n",
    "hline = '#cdcdcd'"
   ]
  },
  {
   "cell_type": "code",
   "execution_count": 8,
   "metadata": {},
   "outputs": [
    {
     "data": {
      "image/png": "[encoded data removed]",
      "text/plain": [
       "<Figure size 1152x360 with 1 Axes>"
      ]
     },
     "metadata": {
      "needs_background": "light"
     },
     "output_type": "display_data"
    }
   ],
   "source": [
    "# plot SAT score vs. student safety score\n",
    "combined.plot.scatter(x = sat, y = saf_s, figsize = figsize)\n",
    "plt.title('{} vs. {}'.format(sat_label, saf_s_label), pad = 15)\n",
    "plt.axvline(x = 1300, linewidth = 1, color = hline)\n",
    "plt.xlabel(sat_label, labelpad = 10)\n",
    "plt.ylabel(saf_s_label, labelpad = 10)\n",
    "plt.xticks(sat_ticks)\n",
    "plt.yticks(saf_s_ticks)\n",
    "plt.show()"
   ]
  },
  {
   "cell_type": "code",
   "execution_count": 9,
   "metadata": {},
   "outputs": [
    {
     "data": {
      "image/png": "[encoded data removed]",
      "text/plain": [
       "<Figure size 1152x360 with 1 Axes>"
      ]
     },
     "metadata": {
      "needs_background": "light"
     },
     "output_type": "display_data"
    }
   ],
   "source": [
    "# plot SAT score vs. teacher safety score\n",
    "combined.plot.scatter(x = sat, y = saf_t, figsize = figsize)\n",
    "plt.title('{} vs. {}'.format(sat_label, saf_t_label), pad = 15)\n",
    "plt.axvline(x = 1300, linewidth = 1, color = hline)\n",
    "plt.xlabel(sat_label, labelpad = 10)\n",
    "plt.ylabel(saf_t_label, labelpad = 10)\n",
    "plt.xticks(sat_ticks)\n",
    "plt.yticks(saf_t_ticks)\n",
    "plt.show()"
   ]
  },
  {
   "cell_type": "markdown",
   "metadata": {},
   "source": [
    "The two charts above appear to behave the same way. On both, there seems to be two distinct sections: those with `sat_score` values under 1300, where the safety (`saf_s_11` and `saf_t_11`) values appear to be well dispersed, making the correlation weaker; and those above 1300, where there seems to be a more defined progression of safety values relative to the SAT score.\n",
    "\n",
    "To review, here are the borough-level aggregate values for SAT scores, student safety score, and teacher safety scores:"
   ]
  },
  {
   "cell_type": "code",
   "execution_count": 10,
   "metadata": {
    "scrolled": true
   },
   "outputs": [
    {
     "data": {
      "text/html": [
       "<div>\n",
       "<style scoped>\n",
       "    .dataframe tbody tr th:only-of-type {\n",
       "        vertical-align: middle;\n",
       "    }\n",
       "\n",
       "    .dataframe tbody tr th {\n",
       "        vertical-align: top;\n",
       "    }\n",
       "\n",
       "    .dataframe thead th {\n",
       "        text-align: right;\n",
       "    }\n",
       "</style>\n",
       "<table border=\"1\" class=\"dataframe\">\n",
       "  <thead>\n",
       "    <tr style=\"text-align: right;\">\n",
       "      <th>boro</th>\n",
       "      <th>Bronx</th>\n",
       "      <th>Brooklyn</th>\n",
       "      <th>Manhattan</th>\n",
       "      <th>Queens</th>\n",
       "      <th>Staten Island</th>\n",
       "    </tr>\n",
       "  </thead>\n",
       "  <tbody>\n",
       "    <tr>\n",
       "      <td>sat_score</td>\n",
       "      <td>1157.6</td>\n",
       "      <td>1181.4</td>\n",
       "      <td>1278.3</td>\n",
       "      <td>1286.8</td>\n",
       "      <td>1382.5</td>\n",
       "    </tr>\n",
       "    <tr>\n",
       "      <td>saf_s_11</td>\n",
       "      <td>6.6</td>\n",
       "      <td>6.4</td>\n",
       "      <td>6.8</td>\n",
       "      <td>6.7</td>\n",
       "      <td>6.5</td>\n",
       "    </tr>\n",
       "    <tr>\n",
       "      <td>saf_t_11</td>\n",
       "      <td>7.0</td>\n",
       "      <td>7.0</td>\n",
       "      <td>7.3</td>\n",
       "      <td>7.4</td>\n",
       "      <td>7.2</td>\n",
       "    </tr>\n",
       "  </tbody>\n",
       "</table>\n",
       "</div>"
      ],
      "text/plain": [
       "boro        Bronx  Brooklyn  Manhattan  Queens  Staten Island\n",
       "sat_score  1157.6    1181.4     1278.3  1286.8         1382.5\n",
       "saf_s_11      6.6       6.4        6.8     6.7            6.5\n",
       "saf_t_11      7.0       7.0        7.3     7.4            7.2"
      ]
     },
     "execution_count": 10,
     "metadata": {},
     "output_type": "execute_result"
    }
   ],
   "source": [
    "tenths = lambda x: round(x, 1)\n",
    "saf_cols = ['boro', 'sat_score', 'saf_s_11', 'saf_t_11']\n",
    "dist_saf = combined.loc[:,saf_cols].groupby('boro').agg(np.mean).apply(tenths)\n",
    "dist_saf.T"
   ]
  },
  {
   "cell_type": "markdown",
   "metadata": {},
   "source": [
    "Based on the summary above, the differences in safety scores across boroughs are not too significant. The safety score from students range from 6.4 to 6.8 — just almost a half-point difference. The same pattern can be seen in teacher safety scores, which range form 7.0 to 7.4. \n",
    "\n",
    "Because of these miniscule differences in values, it may be helpful to investigate correlations using these district values to surface correlations. The results are as follows:"
   ]
  },
  {
   "cell_type": "code",
   "execution_count": 11,
   "metadata": {
    "scrolled": false
   },
   "outputs": [
    {
     "data": {
      "text/html": [
       "<div>\n",
       "<style scoped>\n",
       "    .dataframe tbody tr th:only-of-type {\n",
       "        vertical-align: middle;\n",
       "    }\n",
       "\n",
       "    .dataframe tbody tr th {\n",
       "        vertical-align: top;\n",
       "    }\n",
       "\n",
       "    .dataframe thead th {\n",
       "        text-align: right;\n",
       "    }\n",
       "</style>\n",
       "<table border=\"1\" class=\"dataframe\">\n",
       "  <thead>\n",
       "    <tr style=\"text-align: right;\">\n",
       "      <th></th>\n",
       "      <th>sat_score</th>\n",
       "      <th>saf_s_11</th>\n",
       "      <th>saf_t_11</th>\n",
       "    </tr>\n",
       "  </thead>\n",
       "  <tbody>\n",
       "    <tr>\n",
       "      <td>sat_score</td>\n",
       "      <td>1.0</td>\n",
       "      <td>0.2</td>\n",
       "      <td>0.7</td>\n",
       "    </tr>\n",
       "    <tr>\n",
       "      <td>saf_s_11</td>\n",
       "      <td>0.2</td>\n",
       "      <td>1.0</td>\n",
       "      <td>0.7</td>\n",
       "    </tr>\n",
       "    <tr>\n",
       "      <td>saf_t_11</td>\n",
       "      <td>0.7</td>\n",
       "      <td>0.7</td>\n",
       "      <td>1.0</td>\n",
       "    </tr>\n",
       "  </tbody>\n",
       "</table>\n",
       "</div>"
      ],
      "text/plain": [
       "           sat_score  saf_s_11  saf_t_11\n",
       "sat_score        1.0       0.2       0.7\n",
       "saf_s_11         0.2       1.0       0.7\n",
       "saf_t_11         0.7       0.7       1.0"
      ]
     },
     "execution_count": 11,
     "metadata": {},
     "output_type": "execute_result"
    }
   ],
   "source": [
    "# correlate district-level values\n",
    "dist_saf.corr().apply(tenths)"
   ]
  },
  {
   "cell_type": "code",
   "execution_count": 12,
   "metadata": {},
   "outputs": [
    {
     "data": {
      "text/html": [
       "<div>\n",
       "<style scoped>\n",
       "    .dataframe tbody tr th:only-of-type {\n",
       "        vertical-align: middle;\n",
       "    }\n",
       "\n",
       "    .dataframe tbody tr th {\n",
       "        vertical-align: top;\n",
       "    }\n",
       "\n",
       "    .dataframe thead th {\n",
       "        text-align: right;\n",
       "    }\n",
       "</style>\n",
       "<table border=\"1\" class=\"dataframe\">\n",
       "  <thead>\n",
       "    <tr style=\"text-align: right;\">\n",
       "      <th></th>\n",
       "      <th>sat_score</th>\n",
       "      <th>saf_s_11</th>\n",
       "      <th>saf_t_11</th>\n",
       "    </tr>\n",
       "  </thead>\n",
       "  <tbody>\n",
       "    <tr>\n",
       "      <td>sat_score</td>\n",
       "      <td>1.0</td>\n",
       "      <td>0.3</td>\n",
       "      <td>0.3</td>\n",
       "    </tr>\n",
       "    <tr>\n",
       "      <td>saf_s_11</td>\n",
       "      <td>0.3</td>\n",
       "      <td>1.0</td>\n",
       "      <td>0.6</td>\n",
       "    </tr>\n",
       "    <tr>\n",
       "      <td>saf_t_11</td>\n",
       "      <td>0.3</td>\n",
       "      <td>0.6</td>\n",
       "      <td>1.0</td>\n",
       "    </tr>\n",
       "  </tbody>\n",
       "</table>\n",
       "</div>"
      ],
      "text/plain": [
       "           sat_score  saf_s_11  saf_t_11\n",
       "sat_score        1.0       0.3       0.3\n",
       "saf_s_11         0.3       1.0       0.6\n",
       "saf_t_11         0.3       0.6       1.0"
      ]
     },
     "execution_count": 12,
     "metadata": {},
     "output_type": "execute_result"
    }
   ],
   "source": [
    "# correlate school-level values\n",
    "combined.loc[:,saf_cols].corr().apply(tenths)"
   ]
  },
  {
   "cell_type": "markdown",
   "metadata": {},
   "source": [
    "It is very interesting to see that the correlation of SAT scores and student safety scores weaken, while the SAT sores and teacher safety scores significantly increase, when rolled up to the district level.\n",
    "\n",
    "This suggests that on a district-wide scale, teachers' gauge of safety — and by extension, school locations —  strongly correlates with SAT scores. To further investigate the relationships between teacher safety scores, districts, and SAT scores, below is a breakdown of the same plotting, split by borough."
   ]
  },
  {
   "cell_type": "code",
   "execution_count": 13,
   "metadata": {},
   "outputs": [
    {
     "data": {
      "image/png": "[encoded data removed]",
      "text/plain": [
       "<Figure size 1152x360 with 1 Axes>"
      ]
     },
     "metadata": {
      "needs_background": "light"
     },
     "output_type": "display_data"
    },
    {
     "data": {
      "image/png": "[encoded data removed]",
      "text/plain": [
       "<Figure size 1152x360 with 1 Axes>"
      ]
     },
     "metadata": {
      "needs_background": "light"
     },
     "output_type": "display_data"
    },
    {
     "data": {
      "image/png": "[encoded data removed]",
      "text/plain": [
       "<Figure size 1152x360 with 1 Axes>"
      ]
     },
     "metadata": {
      "needs_background": "light"
     },
     "output_type": "display_data"
    },
    {
     "data": {
      "image/png": "[encoded data removed]",
      "text/plain": [
       "<Figure size 1152x360 with 1 Axes>"
      ]
     },
     "metadata": {
      "needs_background": "light"
     },
     "output_type": "display_data"
    },
    {
     "data": {
      "image/png": "[encoded data removed]",
      "text/plain": [
       "<Figure size 1152x360 with 1 Axes>"
      ]
     },
     "metadata": {
      "needs_background": "light"
     },
     "output_type": "display_data"
    }
   ],
   "source": [
    "boros = list(combined['boro'].unique())\n",
    "\n",
    "# plot by borough to see if correlation changes\n",
    "for boro in boros:\n",
    "    df = combined[combined['boro'] == boro]\n",
    "    df.plot.scatter(x = sat, y = saf_t, figsize = figsize)\n",
    "    plt.title('{} vs. {} in {}'.format(sat_label, saf_t_label, boro), pad = 15)\n",
    "    plt.axvline(x = 1300, linewidth = 1, color = hline)\n",
    "    plt.xlabel(sat_label, labelpad = 10)\n",
    "    plt.ylabel(saf_t_label, labelpad = 10)\n",
    "    plt.xticks(sat_ticks)\n",
    "    plt.yticks(saf_t_ticks)\n",
    "    plt.show()"
   ]
  },
  {
   "cell_type": "markdown",
   "metadata": {},
   "source": [
    "All five boroughs seem to confirm to the general correlation pattern established earlier. After the 1300 SAT mark, the relationship between SAT score and teachers' security index becomes much more pronounced. Out of the five boroughs, Staten Island (despite having the least number of values) demonstrates the clearest connection between the two factors.\n",
    "\n",
    "### 3.3 Exploring Race and SAT Scores\n",
    "\n",
    "There are a few columns that indicate the percentage of each race at a given school. By plotting out the correlations between these columns and `sat_score`, it may be possible to surface any racial differences in SAT performance. These columns are as follows:\n",
    "\n",
    "- `white_per`\n",
    "- `asian_per`\n",
    "- `black_per`\n",
    "- `hispanic_per`"
   ]
  },
  {
   "cell_type": "code",
   "execution_count": 14,
   "metadata": {},
   "outputs": [
    {
     "data": {
      "text/plain": [
       "sat_score       1.000000\n",
       "white_per       0.620718\n",
       "asian_per       0.570730\n",
       "black_per      -0.284139\n",
       "hispanic_per   -0.396985\n",
       "Name: sat_score, dtype: float64"
      ]
     },
     "execution_count": 14,
     "metadata": {},
     "output_type": "execute_result"
    }
   ],
   "source": [
    "race_sat_cols = ['sat_score', 'white_per', 'asian_per', 'black_per', 'hispanic_per']\n",
    "race_sat = combined.loc[:,race_sat_cols].corr()\n",
    "race_sat.iloc[:,0]"
   ]
  },
  {
   "cell_type": "code",
   "execution_count": 15,
   "metadata": {
    "scrolled": true
   },
   "outputs": [
    {
     "data": {
      "image/png": "[encoded data removed]",
      "text/plain": [
       "<Figure size 1224x288 with 1 Axes>"
      ]
     },
     "metadata": {
      "needs_background": "light"
     },
     "output_type": "display_data"
    }
   ],
   "source": [
    "bar_widths = race_sat['sat_score'].values[1:]\n",
    "\n",
    "races = []\n",
    "for r in race_sat_cols:\n",
    "    x = r.replace('_per','').title()\n",
    "    races.append(x)\n",
    "\n",
    "fig,ax = plt.subplots(figsize=(17,4))\n",
    "ax.barh(races[1:], bar_widths, 0.8)\n",
    "ax.set_xlabel('Correlation Value', fontsize=13, labelpad=10)\n",
    "ax.set_ylabel('Racial Groups', fontsize=13, labelpad=10)\n",
    "plt.title('Race and SAT Scores', fontsize=14, pad=20)            \n",
    "plt.show()"
   ]
  },
  {
   "cell_type": "markdown",
   "metadata": {},
   "source": [
    "The chart above reaffirms the initial observation about correlations SAT scores and various racial groups. There seems to be a positive correlation between SAT and White and Asian students, while the opposite is true for Black and Hispanic students.\n",
    "\n",
    "To provide more context in this relationship, it may be helpful to zoom out a bit and look at the issue at hand from a different angle. For instance, `frl_percent`, which refers to the percentage of the population of free lunch, seems to show an inverse relationship with the same set of racial groups. It has a negative correlation with White and Asian students, while having a positive correlation between Black and Hispanic students. The correlation table is below."
   ]
  },
  {
   "cell_type": "code",
   "execution_count": 16,
   "metadata": {},
   "outputs": [
    {
     "data": {
      "text/html": [
       "<div>\n",
       "<style scoped>\n",
       "    .dataframe tbody tr th:only-of-type {\n",
       "        vertical-align: middle;\n",
       "    }\n",
       "\n",
       "    .dataframe tbody tr th {\n",
       "        vertical-align: top;\n",
       "    }\n",
       "\n",
       "    .dataframe thead th {\n",
       "        text-align: right;\n",
       "    }\n",
       "</style>\n",
       "<table border=\"1\" class=\"dataframe\">\n",
       "  <thead>\n",
       "    <tr style=\"text-align: right;\">\n",
       "      <th></th>\n",
       "      <th>white_per</th>\n",
       "      <th>asian_per</th>\n",
       "      <th>black_per</th>\n",
       "      <th>hispanic_per</th>\n",
       "    </tr>\n",
       "  </thead>\n",
       "  <tbody>\n",
       "    <tr>\n",
       "      <td>frl_percent</td>\n",
       "      <td>-0.722343</td>\n",
       "      <td>-0.383266</td>\n",
       "      <td>0.066348</td>\n",
       "      <td>0.571657</td>\n",
       "    </tr>\n",
       "    <tr>\n",
       "      <td>sat_score</td>\n",
       "      <td>0.620718</td>\n",
       "      <td>0.570730</td>\n",
       "      <td>-0.284139</td>\n",
       "      <td>-0.396985</td>\n",
       "    </tr>\n",
       "  </tbody>\n",
       "</table>\n",
       "</div>"
      ],
      "text/plain": [
       "             white_per  asian_per  black_per  hispanic_per\n",
       "frl_percent  -0.722343  -0.383266   0.066348      0.571657\n",
       "sat_score     0.620718   0.570730  -0.284139     -0.396985"
      ]
     },
     "execution_count": 16,
     "metadata": {},
     "output_type": "execute_result"
    }
   ],
   "source": [
    "race_frl_cols = ['frl_percent', 'white_per', 'asian_per', 'black_per', 'hispanic_per', 'sat_score']\n",
    "race_frl_corr = combined.loc[:,race_frl_cols].corr()\n",
    "race_frl_corr.iloc[[0,5],1:5]"
   ]
  },
  {
   "cell_type": "code",
   "execution_count": 17,
   "metadata": {
    "scrolled": true
   },
   "outputs": [
    {
     "data": {
      "image/png": "[encoded data removed]",
      "text/plain": [
       "<Figure size 1224x288 with 1 Axes>"
      ]
     },
     "metadata": {
      "needs_background": "light"
     },
     "output_type": "display_data"
    }
   ],
   "source": [
    "frl_cols = ['frl_percent', 'white_per', 'asian_per', 'black_per', 'hispanic_per']\n",
    "race_frl = combined.loc[:,frl_cols].corr()\n",
    "bar_widths = race_frl['frl_percent'].values[1:]\n",
    "\n",
    "races = []\n",
    "for r in frl_cols:\n",
    "    x = r.replace('_per','').title()\n",
    "    races.append(x)\n",
    "\n",
    "fig,ax = plt.subplots(figsize=(17,4))\n",
    "ax.barh(races[1:], bar_widths, 0.8)\n",
    "ax.set_xlabel('Correlation Value', fontsize=13, labelpad=10)\n",
    "ax.set_ylabel('Racial Groups', fontsize=13, labelpad=10)\n",
    "plt.title('Race vs. Free and Reduced Lunch Percentage', fontsize=14, pad=20)            \n",
    "plt.show()"
   ]
  },
  {
   "cell_type": "markdown",
   "metadata": {},
   "source": [
    "Since there are [income eligibility requirements](http://www.cn.nysed.gov/common/cn/files/attiincomeeligibilitygdlns.pdf) for Free and Reduced Lunch, this implies that students who qualify for it usually belong to very poor households. Looking at it through this lens, the data suggests that relationships between SAT scores and race may be compounded — if not driven — by economic factors. \n",
    "\n",
    "For instance, hispanic students, who may deal with more financial roadblocks, tend to have lower scores. On the other hand, white students, who tend to have more economic freedom also tend to do better in SAT scores.\n",
    "\n",
    "### 3.4 Exploring Gender and SAT Scores\n",
    "\n",
    "Similar to explorations in race, correlations between each gender percentage and `sat_score` can also be surfaced. There are two columns that indicate the percentage of each gender at a school:\n",
    "\n",
    "- `male_per`\n",
    "- `female_per`\n",
    "\n",
    "The list and the plotting for these correlations can be found below."
   ]
  },
  {
   "cell_type": "code",
   "execution_count": 18,
   "metadata": {},
   "outputs": [
    {
     "data": {
      "text/plain": [
       "sat_score     1.000000\n",
       "male_per     -0.112062\n",
       "female_per    0.112108\n",
       "Name: sat_score, dtype: float64"
      ]
     },
     "execution_count": 18,
     "metadata": {},
     "output_type": "execute_result"
    }
   ],
   "source": [
    "gender_cols = ['sat_score', 'male_per', 'female_per']\n",
    "gender_sat = combined.loc[:,gender_cols].corr()\n",
    "gender_sat.iloc[:,0]"
   ]
  },
  {
   "cell_type": "code",
   "execution_count": 19,
   "metadata": {
    "scrolled": true
   },
   "outputs": [
    {
     "data": {
      "image/png": "[encoded data removed]",
      "text/plain": [
       "<Figure size 1224x288 with 1 Axes>"
      ]
     },
     "metadata": {
      "needs_background": "light"
     },
     "output_type": "display_data"
    }
   ],
   "source": [
    "bar_widths = gender_sat['sat_score'].values[1:]\n",
    "\n",
    "genders = []\n",
    "for g in gender_cols:\n",
    "    x = g.replace('_per','').title()\n",
    "    genders.append(x)\n",
    "\n",
    "fig,ax = plt.subplots(figsize=(17,4))\n",
    "ax.barh(genders[1:], bar_widths, 0.8)\n",
    "ax.set_xlabel('Correlation Value', fontsize=13, labelpad=10)\n",
    "ax.set_ylabel('Gender Groups', fontsize=13, labelpad=10)\n",
    "plt.title('Gender vs. SAT Scores', fontsize=14, pad=20)            \n",
    "plt.show()"
   ]
  },
  {
   "cell_type": "code",
   "execution_count": 20,
   "metadata": {},
   "outputs": [
    {
     "data": {
      "text/plain": [
       "sat_score     1.000\n",
       "male_per     -0.021\n",
       "female_per    0.021\n",
       "Name: sat_score, dtype: float64"
      ]
     },
     "execution_count": 20,
     "metadata": {},
     "output_type": "execute_result"
    }
   ],
   "source": [
    "# get correlation of gender and SAT in male-dominated high schools\n",
    "combined[combined['male_per'] > 50.0].loc[:,gender_cols].corr().round(3)['sat_score']"
   ]
  },
  {
   "cell_type": "code",
   "execution_count": 21,
   "metadata": {},
   "outputs": [
    {
     "data": {
      "text/plain": [
       "sat_score     1.000\n",
       "male_per     -0.099\n",
       "female_per    0.099\n",
       "Name: sat_score, dtype: float64"
      ]
     },
     "execution_count": 21,
     "metadata": {},
     "output_type": "execute_result"
    }
   ],
   "source": [
    "# get correlation of gender and SAT in female-dominated high schools\n",
    "combined[combined['female_per'] > 50.0].loc[:,gender_cols].corr().round(3)['sat_score']"
   ]
  },
  {
   "cell_type": "markdown",
   "metadata": {},
   "source": [
    "The data suggests that, there is a negative correlation between male and SAT scores and there is a positive correlation between female and SAT scores. However, both correlations are weak. Even when the dataset has been filtered to only include male-dominated schools or female-dominated schools, the correlations still do not appear significant.\n",
    "\n",
    "### 3.5 Exploring AP Scores vs. SAT Scores\n",
    "\n",
    "Advanced Placement (AP) exams are taken by high school students to earn college credit. This allows students to fast track the completion of their college degrees. AP exams usually require a higher level of mastery in a specific subject, often more advanced than a general high school curriculum.\n",
    "\n",
    "Because of this, it seems logical to infer that the number of students taking AP exams is highly correlated with the school's SAT scores. To flatten discrepancies caused by differences in `total_enrollment`, the table and plotting below use the percentage (`ap_per`) of students in each school who has taken at least one AP exam."
   ]
  },
  {
   "cell_type": "code",
   "execution_count": 22,
   "metadata": {},
   "outputs": [
    {
     "data": {
      "text/html": [
       "<div>\n",
       "<style scoped>\n",
       "    .dataframe tbody tr th:only-of-type {\n",
       "        vertical-align: middle;\n",
       "    }\n",
       "\n",
       "    .dataframe tbody tr th {\n",
       "        vertical-align: top;\n",
       "    }\n",
       "\n",
       "    .dataframe thead th {\n",
       "        text-align: right;\n",
       "    }\n",
       "</style>\n",
       "<table border=\"1\" class=\"dataframe\">\n",
       "  <thead>\n",
       "    <tr style=\"text-align: right;\">\n",
       "      <th></th>\n",
       "      <th>sat_score</th>\n",
       "      <th>ap_per</th>\n",
       "    </tr>\n",
       "  </thead>\n",
       "  <tbody>\n",
       "    <tr>\n",
       "      <td>sat_score</td>\n",
       "      <td>1.000000</td>\n",
       "      <td>0.057171</td>\n",
       "    </tr>\n",
       "    <tr>\n",
       "      <td>ap_per</td>\n",
       "      <td>0.057171</td>\n",
       "      <td>1.000000</td>\n",
       "    </tr>\n",
       "  </tbody>\n",
       "</table>\n",
       "</div>"
      ],
      "text/plain": [
       "           sat_score    ap_per\n",
       "sat_score   1.000000  0.057171\n",
       "ap_per      0.057171  1.000000"
      ]
     },
     "execution_count": 22,
     "metadata": {},
     "output_type": "execute_result"
    }
   ],
   "source": [
    "combined['ap_per'] = combined['AP Test Takers '] / combined['total_enrollment']\n",
    "\n",
    "ap_cols = ['sat_score', 'ap_per']\n",
    "combined[ap_cols].corr()"
   ]
  },
  {
   "cell_type": "code",
   "execution_count": 23,
   "metadata": {},
   "outputs": [
    {
     "data": {
      "image/png": "[encoded data removed]",
      "text/plain": [
       "<Figure size 1224x288 with 1 Axes>"
      ]
     },
     "metadata": {
      "needs_background": "light"
     },
     "output_type": "display_data"
    }
   ],
   "source": [
    "combined.plot.scatter(x='sat_score', y='ap_per', figsize=(17,4))\n",
    "plt.title('Percent of AP Takers vs. SAT Scores', fontsize=14, pad=20)\n",
    "plt.axhline(y = 0.5, linewidth = 1, color = hline)\n",
    "plt.xlabel('SAT Score'.upper(), fontsize=13, labelpad=10)\n",
    "plt.ylabel('AP Takers'.upper(), fontsize=13, labelpad=10)\n",
    "plt.show()"
   ]
  },
  {
   "cell_type": "code",
   "execution_count": 24,
   "metadata": {
    "scrolled": true
   },
   "outputs": [
    {
     "data": {
      "text/plain": [
       "sat_score    1.000\n",
       "ap_per      -0.329\n",
       "Name: sat_score, dtype: float64"
      ]
     },
     "execution_count": 24,
     "metadata": {},
     "output_type": "execute_result"
    }
   ],
   "source": [
    "# get correlation of AP Takers and SAT in schools \n",
    "# where more than half of the population took at least one AP exam\n",
    "combined[combined['ap_per'] > 0.5].loc[:,ap_cols].corr().round(3)['sat_score']"
   ]
  },
  {
   "cell_type": "code",
   "execution_count": 25,
   "metadata": {},
   "outputs": [
    {
     "data": {
      "text/plain": [
       "sat_score    1.000\n",
       "ap_per       0.028\n",
       "Name: sat_score, dtype: float64"
      ]
     },
     "execution_count": 25,
     "metadata": {},
     "output_type": "execute_result"
    }
   ],
   "source": [
    "# get correlation of AP Takers and SAT in schools\n",
    "# where half or less than half of the population took at least one AP exam\n",
    "combined[combined['ap_per'] <= 0.5].loc[:,ap_cols].corr().round(3)['sat_score']"
   ]
  },
  {
   "cell_type": "markdown",
   "metadata": {},
   "source": [
    "Based on the data above, it seems that the percentage of AP takers tend to negatively impact SAT scores, contrary to the initial hypothesis."
   ]
  }
 ],
 "metadata": {
  "kernelspec": {
   "display_name": "Python 3",
   "language": "python",
   "name": "python3"
  },
  "language_info": {
   "codemirror_mode": {
    "name": "ipython",
    "version": 3
   },
   "file_extension": ".py",
   "mimetype": "text/x-python",
   "name": "python",
   "nbconvert_exporter": "python",
   "pygments_lexer": "ipython3",
   "version": "3.7.4"
  }
 },
 "nbformat": 4,
 "nbformat_minor": 2
}
